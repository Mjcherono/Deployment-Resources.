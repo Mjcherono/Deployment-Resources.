{
  "nbformat": 4,
  "nbformat_minor": 0,
  "metadata": {
    "colab": {
      "name": "Model Deployment -  Saving Model.ipynb",
      "provenance": [],
      "collapsed_sections": [],
      "include_colab_link": true
    },
    "kernelspec": {
      "name": "python3",
      "display_name": "Python 3"
    },
    "language_info": {
      "name": "python"
    },
    "accelerator": "GPU"
  },
  "cells": [
    {
      "cell_type": "markdown",
      "metadata": {
        "id": "view-in-github",
        "colab_type": "text"
      },
      "source": [
        "<a href=\"https://colab.research.google.com/github/Mjcherono/Deployment-Resources./blob/main/Model_Deployment_Saving_Model.ipynb\" target=\"_parent\"><img src=\"https://colab.research.google.com/assets/colab-badge.svg\" alt=\"Open In Colab\"/></a>"
      ]
    },
    {
      "cell_type": "markdown",
      "metadata": {
        "id": "trFRqFe0KC76"
      },
      "source": [
        "# Simple Starter Notebook for;\n",
        "## UmojaHack Africa 2021 #2: Sendy - Delivery Rider Response Challenge by UmojaHack Africa\n",
        "\n",
        "Can you predict who is the best delivery rider for an order placed via logistics company Sendy?\n",
        "\n",
        "![Umoja Hack](https://zindpublic.blob.core.windows.net/public/uploads/competition/image/152/thumb_c5ec4e2a-e000-4176-a93c-dd1143c2b60f.png)\n",
        "\n",
        "The objective of this challenge is to create a machine learning model that will predict whether a rider will accept, decline or ignore an order sent to them."
      ]
    },
    {
      "cell_type": "markdown",
      "metadata": {
        "id": "qKDvjx5HlV4c"
      },
      "source": [
        "## Problem Statement"
      ]
    },
    {
      "cell_type": "markdown",
      "metadata": {
        "id": "Jpgoph67lFp1"
      },
      "source": [
        "Sendy links customers who have delivery needs with vetted transporters (from bikes to trucks), using a web and mobile application platform as well as an API. Customers select their vehicle of choice, get their price quote upfront and pay using various payment options. The system optimises the route and dispatches the order to the closest available drivers and riders (called Partners). \n",
        "\n",
        "> The objective of this challenge is to create a machine learning model that will predict whether a rider will accept, decline or ignore an order sent to them. Picking the best rider to service the order will improve the experience of the customer and potentially save on time since the rider won’t cancel, creating a more efficient service overall.\n",
        "\n",
        "The datasets provided by Sendy includes dispatch details and rider metrics based on orders made via the Sendy platform. The challenge is to predict whether a Partner will accept, reject or ignore an order that has been dispatched to them. A Partner will receive an order through the phone application and has a few seconds to accept the order. Alternatively, the Partner can actively reject the order. If the Partner doesn’t take an action we consider the order ignored. After a few seconds, Sendy will dispatch the order to the next available Partner.\n",
        "\n",
        "The training dataset provided here is a subset of over 200 000 order dispatches and only includes direct orders (i.e. Sendy “express” orders) placed with bikes in Nairobi. All data in this subset have been fully anonymised while preserving the distribution."
      ]
    },
    {
      "cell_type": "markdown",
      "metadata": {
        "id": "nBUwTG1IWeuv"
      },
      "source": [
        "#Data Description\n",
        "\n",
        "Variable definitions\n",
        "\n",
        "### Dispatch Data\n",
        "\n",
        "- ID - Unique ID for each order request\n",
        "- order_id – Unique number identifying the order\n",
        "- client_id - Unique number identifying the customer on a platform\n",
        "- client_type - Specifies the customer type (Business or Personal)\n",
        "- rider_id - Unique number to uniquely identify the rider\n",
        "- rider_license_status - Identifies riders who have a license to access restricted areas i.e. *0 (Cannot access a restricted area) and 1 (Can access a restricted area)*\n",
        "- rider_carrier_type - Identifies the box option that a rider currently has * i.e. 0 (No Box option) and 1 (Box option)*\n",
        "- rider_amount - The earnings a partner would earn if they successfully complete an order.\n",
        "- order_license_status - Identifies orders that require a pick-up or drop-off in a restricted area *i.e. 0 (Restricted area) and 1 (Non-Restricted area)*\n",
        "- order_carrier_type - Identifies the box option the customer specified while placing their orders *i.e. 0 (No box option), 1 (Box option), 2 (Any option)*\n",
        "- vendor_type – For this competition limited to bikes. However, in practice, Sendy’s service extends to Vans and Trucks.\n",
        "- Pickup Latitude and Longitude (pickup_lat and pickup_long) - Latitude and longitude of pick up location\n",
        "- Destination Latitude and Longitude (drop_off_lat and drop_off_long) - Latitude and longitude of delivery location\n",
        "- Rider Latitude and Longitude (rider_lat and rider_long) - Latitude and longitude of the Rider at the time of dispatch.\n",
        "- target - The reaction of a rider in regards to a particular dispatch. Did a rider ignore *(0), decline (1) or accept (2) a dispatch?*\n",
        "\n",
        "###Dispatch times\n",
        "\n",
        "- dispatch_day - Day of Month i.e. 1-31\n",
        "- dispatch_day_of_week - Weekday (Monday = 1)\n",
        "- dispatch_time - Time of day the dispatch was sent out to the riders"
      ]
    },
    {
      "cell_type": "markdown",
      "metadata": {
        "id": "_xUcY8zcYzcW"
      },
      "source": [
        "#Loading  libraries"
      ]
    },
    {
      "cell_type": "code",
      "metadata": {
        "id": "709geX4kxNtA"
      },
      "source": [
        "# Installing the necessary libraries\n",
        "#!pip install catboost\n",
        "#!pip install rgf-python"
      ],
      "execution_count": 667,
      "outputs": []
    },
    {
      "cell_type": "code",
      "metadata": {
        "id": "YBArGtJwFzwO"
      },
      "source": [
        "# Import libraries\n",
        "import pandas as pd\n",
        "import numpy as np\n",
        "from sklearn.model_selection import train_test_split\n",
        "from lightgbm import LGBMClassifier\n",
        "from sklearn.metrics import accuracy_score\n",
        "import requests\n",
        "from io import StringIO \n",
        "import warnings\n",
        "from matplotlib import pyplot as plt\n",
        "warnings.filterwarnings('ignore')"
      ],
      "execution_count": 668,
      "outputs": []
    },
    {
      "cell_type": "markdown",
      "metadata": {
        "id": "8HFLtUQiY3ba"
      },
      "source": [
        "#Loading the datasets"
      ]
    },
    {
      "cell_type": "code",
      "metadata": {
        "id": "A1Nlsw9lGHTB"
      },
      "source": [
        "# Load files\n",
        "train = pd.read_csv('/content/Train.csv')\n",
        "test = pd.read_csv('/content/Test.csv')\n",
        "riders = pd.read_csv('/content/Riders.csv')\n",
        "ss = pd.read_csv('SampleSubmission.csv')"
      ],
      "execution_count": 669,
      "outputs": []
    },
    {
      "cell_type": "code",
      "metadata": {
        "id": "a7Jni6DMGVKd",
        "colab": {
          "base_uri": "https://localhost:8080/"
        },
        "outputId": "bbbdb777-a09f-4a42-89ae-92a1f39c8ba7"
      },
      "source": [
        "# check data shapes\n",
        "train.shape, test.shape, riders.shape, ss.shape"
      ],
      "execution_count": 670,
      "outputs": [
        {
          "output_type": "execute_result",
          "data": {
            "text/plain": [
              "((179867, 21), (76791, 20), (2632, 4), (76791, 2))"
            ]
          },
          "metadata": {
            "tags": []
          },
          "execution_count": 670
        }
      ]
    },
    {
      "cell_type": "code",
      "metadata": {
        "id": "LRHncK2pHSmR",
        "colab": {
          "base_uri": "https://localhost:8080/",
          "height": 217
        },
        "outputId": "320cc283-079f-4c29-db9c-6fe7a9ee6c66"
      },
      "source": [
        "# Preview train\n",
        "train.head()"
      ],
      "execution_count": 671,
      "outputs": [
        {
          "output_type": "execute_result",
          "data": {
            "text/html": [
              "<div>\n",
              "<style scoped>\n",
              "    .dataframe tbody tr th:only-of-type {\n",
              "        vertical-align: middle;\n",
              "    }\n",
              "\n",
              "    .dataframe tbody tr th {\n",
              "        vertical-align: top;\n",
              "    }\n",
              "\n",
              "    .dataframe thead th {\n",
              "        text-align: right;\n",
              "    }\n",
              "</style>\n",
              "<table border=\"1\" class=\"dataframe\">\n",
              "  <thead>\n",
              "    <tr style=\"text-align: right;\">\n",
              "      <th></th>\n",
              "      <th>ID</th>\n",
              "      <th>order_id</th>\n",
              "      <th>dispatch_day</th>\n",
              "      <th>dispatch_day_of_week</th>\n",
              "      <th>dispatch_time</th>\n",
              "      <th>client_id</th>\n",
              "      <th>client_type</th>\n",
              "      <th>order_license_status</th>\n",
              "      <th>order_carrier_type</th>\n",
              "      <th>vendor_type</th>\n",
              "      <th>rider_id</th>\n",
              "      <th>rider_license_status</th>\n",
              "      <th>rider_carrier_type</th>\n",
              "      <th>rider_amount</th>\n",
              "      <th>rider_lat</th>\n",
              "      <th>rider_long</th>\n",
              "      <th>pickup_lat</th>\n",
              "      <th>pickup_long</th>\n",
              "      <th>drop_off_lat</th>\n",
              "      <th>drop_off_long</th>\n",
              "      <th>target</th>\n",
              "    </tr>\n",
              "  </thead>\n",
              "  <tbody>\n",
              "    <tr>\n",
              "      <th>0</th>\n",
              "      <td>ID_SCUW21PVAU</td>\n",
              "      <td>4435</td>\n",
              "      <td>27</td>\n",
              "      <td>6</td>\n",
              "      <td>09:02:54</td>\n",
              "      <td>593630</td>\n",
              "      <td>Business</td>\n",
              "      <td>0</td>\n",
              "      <td>2</td>\n",
              "      <td>Bike</td>\n",
              "      <td>30153</td>\n",
              "      <td>0</td>\n",
              "      <td>1</td>\n",
              "      <td>1080</td>\n",
              "      <td>-42.698343</td>\n",
              "      <td>-17.228539</td>\n",
              "      <td>-42.692371</td>\n",
              "      <td>-17.248305</td>\n",
              "      <td>-42.687442</td>\n",
              "      <td>-17.424682</td>\n",
              "      <td>1</td>\n",
              "    </tr>\n",
              "    <tr>\n",
              "      <th>1</th>\n",
              "      <td>ID_2HA7X30JMN</td>\n",
              "      <td>32711</td>\n",
              "      <td>30</td>\n",
              "      <td>7</td>\n",
              "      <td>13:01:37</td>\n",
              "      <td>837729</td>\n",
              "      <td>Personal</td>\n",
              "      <td>0</td>\n",
              "      <td>1</td>\n",
              "      <td>Bike</td>\n",
              "      <td>20884</td>\n",
              "      <td>0</td>\n",
              "      <td>1</td>\n",
              "      <td>730</td>\n",
              "      <td>-42.787317</td>\n",
              "      <td>-17.288252</td>\n",
              "      <td>-42.784046</td>\n",
              "      <td>-17.290121</td>\n",
              "      <td>-42.673267</td>\n",
              "      <td>-17.234595</td>\n",
              "      <td>2</td>\n",
              "    </tr>\n",
              "    <tr>\n",
              "      <th>2</th>\n",
              "      <td>ID_IAJWDTBY6M</td>\n",
              "      <td>8712</td>\n",
              "      <td>14</td>\n",
              "      <td>2</td>\n",
              "      <td>10:01:00</td>\n",
              "      <td>695129</td>\n",
              "      <td>Personal</td>\n",
              "      <td>0</td>\n",
              "      <td>2</td>\n",
              "      <td>Bike</td>\n",
              "      <td>33143</td>\n",
              "      <td>1</td>\n",
              "      <td>1</td>\n",
              "      <td>490</td>\n",
              "      <td>-42.749180</td>\n",
              "      <td>-17.287848</td>\n",
              "      <td>-42.765204</td>\n",
              "      <td>-17.293784</td>\n",
              "      <td>-42.813953</td>\n",
              "      <td>-17.294805</td>\n",
              "      <td>1</td>\n",
              "    </tr>\n",
              "    <tr>\n",
              "      <th>3</th>\n",
              "      <td>ID_LKSVPNYMTR</td>\n",
              "      <td>44869</td>\n",
              "      <td>22</td>\n",
              "      <td>3</td>\n",
              "      <td>14:11:16</td>\n",
              "      <td>1504660</td>\n",
              "      <td>Personal</td>\n",
              "      <td>0</td>\n",
              "      <td>2</td>\n",
              "      <td>Bike</td>\n",
              "      <td>96531</td>\n",
              "      <td>1</td>\n",
              "      <td>1</td>\n",
              "      <td>510</td>\n",
              "      <td>-42.836266</td>\n",
              "      <td>-17.311920</td>\n",
              "      <td>-42.831913</td>\n",
              "      <td>-17.315311</td>\n",
              "      <td>-42.812409</td>\n",
              "      <td>-17.265441</td>\n",
              "      <td>2</td>\n",
              "    </tr>\n",
              "    <tr>\n",
              "      <th>4</th>\n",
              "      <td>ID_O7N8Y918YH</td>\n",
              "      <td>57590</td>\n",
              "      <td>27</td>\n",
              "      <td>5</td>\n",
              "      <td>16:11:38</td>\n",
              "      <td>36869</td>\n",
              "      <td>Business</td>\n",
              "      <td>0</td>\n",
              "      <td>2</td>\n",
              "      <td>Bike</td>\n",
              "      <td>103546</td>\n",
              "      <td>0</td>\n",
              "      <td>0</td>\n",
              "      <td>400</td>\n",
              "      <td>-42.828195</td>\n",
              "      <td>-17.322818</td>\n",
              "      <td>-42.836056</td>\n",
              "      <td>-17.318111</td>\n",
              "      <td>-42.828517</td>\n",
              "      <td>-17.302052</td>\n",
              "      <td>0</td>\n",
              "    </tr>\n",
              "  </tbody>\n",
              "</table>\n",
              "</div>"
            ],
            "text/plain": [
              "              ID  order_id  dispatch_day  ...  drop_off_lat drop_off_long  target\n",
              "0  ID_SCUW21PVAU      4435            27  ...    -42.687442    -17.424682       1\n",
              "1  ID_2HA7X30JMN     32711            30  ...    -42.673267    -17.234595       2\n",
              "2  ID_IAJWDTBY6M      8712            14  ...    -42.813953    -17.294805       1\n",
              "3  ID_LKSVPNYMTR     44869            22  ...    -42.812409    -17.265441       2\n",
              "4  ID_O7N8Y918YH     57590            27  ...    -42.828517    -17.302052       0\n",
              "\n",
              "[5 rows x 21 columns]"
            ]
          },
          "metadata": {
            "tags": []
          },
          "execution_count": 671
        }
      ]
    },
    {
      "cell_type": "code",
      "metadata": {
        "id": "0OFCB3zv2WjU",
        "colab": {
          "base_uri": "https://localhost:8080/",
          "height": 217
        },
        "outputId": "5807cd92-da77-483c-fe4f-67c6feb32a5d"
      },
      "source": [
        "#preview test\n",
        "test.head()\n"
      ],
      "execution_count": 672,
      "outputs": [
        {
          "output_type": "execute_result",
          "data": {
            "text/html": [
              "<div>\n",
              "<style scoped>\n",
              "    .dataframe tbody tr th:only-of-type {\n",
              "        vertical-align: middle;\n",
              "    }\n",
              "\n",
              "    .dataframe tbody tr th {\n",
              "        vertical-align: top;\n",
              "    }\n",
              "\n",
              "    .dataframe thead th {\n",
              "        text-align: right;\n",
              "    }\n",
              "</style>\n",
              "<table border=\"1\" class=\"dataframe\">\n",
              "  <thead>\n",
              "    <tr style=\"text-align: right;\">\n",
              "      <th></th>\n",
              "      <th>ID</th>\n",
              "      <th>order_id</th>\n",
              "      <th>dispatch_day</th>\n",
              "      <th>dispatch_day_of_week</th>\n",
              "      <th>dispatch_time</th>\n",
              "      <th>client_id</th>\n",
              "      <th>client_type</th>\n",
              "      <th>order_license_status</th>\n",
              "      <th>order_carrier_type</th>\n",
              "      <th>vendor_type</th>\n",
              "      <th>rider_id</th>\n",
              "      <th>rider_license_status</th>\n",
              "      <th>rider_carrier_type</th>\n",
              "      <th>rider_amount</th>\n",
              "      <th>rider_lat</th>\n",
              "      <th>rider_long</th>\n",
              "      <th>pickup_lat</th>\n",
              "      <th>pickup_long</th>\n",
              "      <th>drop_off_lat</th>\n",
              "      <th>drop_off_long</th>\n",
              "    </tr>\n",
              "  </thead>\n",
              "  <tbody>\n",
              "    <tr>\n",
              "      <th>0</th>\n",
              "      <td>ID_3B4D2Q2DSI</td>\n",
              "      <td>28636</td>\n",
              "      <td>2</td>\n",
              "      <td>6</td>\n",
              "      <td>12:10:59</td>\n",
              "      <td>593630</td>\n",
              "      <td>Business</td>\n",
              "      <td>0</td>\n",
              "      <td>2</td>\n",
              "      <td>Bike</td>\n",
              "      <td>57224</td>\n",
              "      <td>1</td>\n",
              "      <td>1</td>\n",
              "      <td>450</td>\n",
              "      <td>-42.912776</td>\n",
              "      <td>-17.265738</td>\n",
              "      <td>-42.881861</td>\n",
              "      <td>-17.280865</td>\n",
              "      <td>-42.880476</td>\n",
              "      <td>-17.230240</td>\n",
              "    </tr>\n",
              "    <tr>\n",
              "      <th>1</th>\n",
              "      <td>ID_7MPWFJ9XFI</td>\n",
              "      <td>60465</td>\n",
              "      <td>11</td>\n",
              "      <td>4</td>\n",
              "      <td>17:10:03</td>\n",
              "      <td>2378775</td>\n",
              "      <td>Personal</td>\n",
              "      <td>1</td>\n",
              "      <td>2</td>\n",
              "      <td>Bike</td>\n",
              "      <td>106329</td>\n",
              "      <td>1</td>\n",
              "      <td>1</td>\n",
              "      <td>560</td>\n",
              "      <td>-42.831932</td>\n",
              "      <td>-17.284140</td>\n",
              "      <td>-42.829545</td>\n",
              "      <td>-17.279453</td>\n",
              "      <td>-42.851920</td>\n",
              "      <td>-17.314558</td>\n",
              "    </tr>\n",
              "    <tr>\n",
              "      <th>2</th>\n",
              "      <td>ID_5VVT3Q3M5B</td>\n",
              "      <td>25249</td>\n",
              "      <td>30</td>\n",
              "      <td>3</td>\n",
              "      <td>12:02:01</td>\n",
              "      <td>2121681</td>\n",
              "      <td>Personal</td>\n",
              "      <td>0</td>\n",
              "      <td>2</td>\n",
              "      <td>Bike</td>\n",
              "      <td>90551</td>\n",
              "      <td>0</td>\n",
              "      <td>0</td>\n",
              "      <td>450</td>\n",
              "      <td>-42.806437</td>\n",
              "      <td>-17.285166</td>\n",
              "      <td>-42.810915</td>\n",
              "      <td>-17.291086</td>\n",
              "      <td>-42.807165</td>\n",
              "      <td>-17.253860</td>\n",
              "    </tr>\n",
              "    <tr>\n",
              "      <th>3</th>\n",
              "      <td>ID_C2GTVS1H7K</td>\n",
              "      <td>21224</td>\n",
              "      <td>27</td>\n",
              "      <td>2</td>\n",
              "      <td>11:10:32</td>\n",
              "      <td>38801</td>\n",
              "      <td>Business</td>\n",
              "      <td>0</td>\n",
              "      <td>2</td>\n",
              "      <td>Bike</td>\n",
              "      <td>90482</td>\n",
              "      <td>1</td>\n",
              "      <td>1</td>\n",
              "      <td>440</td>\n",
              "      <td>-42.828448</td>\n",
              "      <td>-17.301909</td>\n",
              "      <td>-42.828517</td>\n",
              "      <td>-17.302052</td>\n",
              "      <td>-42.795516</td>\n",
              "      <td>-17.287921</td>\n",
              "    </tr>\n",
              "    <tr>\n",
              "      <th>4</th>\n",
              "      <td>ID_0YGC8V3PFT</td>\n",
              "      <td>58287</td>\n",
              "      <td>14</td>\n",
              "      <td>6</td>\n",
              "      <td>16:12:55</td>\n",
              "      <td>153111</td>\n",
              "      <td>Business</td>\n",
              "      <td>0</td>\n",
              "      <td>2</td>\n",
              "      <td>Bike</td>\n",
              "      <td>101959</td>\n",
              "      <td>1</td>\n",
              "      <td>1</td>\n",
              "      <td>500</td>\n",
              "      <td>-42.808912</td>\n",
              "      <td>-17.259955</td>\n",
              "      <td>-42.805154</td>\n",
              "      <td>-17.262939</td>\n",
              "      <td>-42.706475</td>\n",
              "      <td>-17.257454</td>\n",
              "    </tr>\n",
              "  </tbody>\n",
              "</table>\n",
              "</div>"
            ],
            "text/plain": [
              "              ID  order_id  ...  drop_off_lat  drop_off_long\n",
              "0  ID_3B4D2Q2DSI     28636  ...    -42.880476     -17.230240\n",
              "1  ID_7MPWFJ9XFI     60465  ...    -42.851920     -17.314558\n",
              "2  ID_5VVT3Q3M5B     25249  ...    -42.807165     -17.253860\n",
              "3  ID_C2GTVS1H7K     21224  ...    -42.795516     -17.287921\n",
              "4  ID_0YGC8V3PFT     58287  ...    -42.706475     -17.257454\n",
              "\n",
              "[5 rows x 20 columns]"
            ]
          },
          "metadata": {
            "tags": []
          },
          "execution_count": 672
        }
      ]
    },
    {
      "cell_type": "code",
      "metadata": {
        "id": "E2paz6AQHUtB",
        "colab": {
          "base_uri": "https://localhost:8080/",
          "height": 197
        },
        "outputId": "65a25d1f-a22b-4bff-e6d1-5ce96c3435bb"
      },
      "source": [
        "# Preview riders\n",
        "riders.head()"
      ],
      "execution_count": 673,
      "outputs": [
        {
          "output_type": "execute_result",
          "data": {
            "text/html": [
              "<div>\n",
              "<style scoped>\n",
              "    .dataframe tbody tr th:only-of-type {\n",
              "        vertical-align: middle;\n",
              "    }\n",
              "\n",
              "    .dataframe tbody tr th {\n",
              "        vertical-align: top;\n",
              "    }\n",
              "\n",
              "    .dataframe thead th {\n",
              "        text-align: right;\n",
              "    }\n",
              "</style>\n",
              "<table border=\"1\" class=\"dataframe\">\n",
              "  <thead>\n",
              "    <tr style=\"text-align: right;\">\n",
              "      <th></th>\n",
              "      <th>Rider ID</th>\n",
              "      <th>Active Rider Age</th>\n",
              "      <th>Average Partner Rating</th>\n",
              "      <th>Number of Ratings</th>\n",
              "    </tr>\n",
              "  </thead>\n",
              "  <tbody>\n",
              "    <tr>\n",
              "      <th>0</th>\n",
              "      <td>16261</td>\n",
              "      <td>308</td>\n",
              "      <td>21.05</td>\n",
              "      <td>321</td>\n",
              "    </tr>\n",
              "    <tr>\n",
              "      <th>1</th>\n",
              "      <td>8832</td>\n",
              "      <td>224</td>\n",
              "      <td>10.00</td>\n",
              "      <td>27</td>\n",
              "    </tr>\n",
              "    <tr>\n",
              "      <th>2</th>\n",
              "      <td>53866</td>\n",
              "      <td>238</td>\n",
              "      <td>17.76</td>\n",
              "      <td>25</td>\n",
              "    </tr>\n",
              "    <tr>\n",
              "      <th>3</th>\n",
              "      <td>46368</td>\n",
              "      <td>343</td>\n",
              "      <td>24.56</td>\n",
              "      <td>320</td>\n",
              "    </tr>\n",
              "    <tr>\n",
              "      <th>4</th>\n",
              "      <td>45609</td>\n",
              "      <td>399</td>\n",
              "      <td>14.97</td>\n",
              "      <td>214</td>\n",
              "    </tr>\n",
              "  </tbody>\n",
              "</table>\n",
              "</div>"
            ],
            "text/plain": [
              "   Rider ID  Active Rider Age  Average Partner Rating  Number of Ratings\n",
              "0     16261               308                   21.05                321\n",
              "1      8832               224                   10.00                 27\n",
              "2     53866               238                   17.76                 25\n",
              "3     46368               343                   24.56                320\n",
              "4     45609               399                   14.97                214"
            ]
          },
          "metadata": {
            "tags": []
          },
          "execution_count": 673
        }
      ]
    },
    {
      "cell_type": "code",
      "metadata": {
        "id": "_4cigp83GcVA",
        "colab": {
          "base_uri": "https://localhost:8080/",
          "height": 251
        },
        "outputId": "bd824175-b771-43ff-82f5-6664413c3381"
      },
      "source": [
        "# Merge rider dataset to train and test sets\n",
        "train = train.merge(riders, how = 'left', left_on='rider_id', right_on='Rider ID')\n",
        "test = test.merge(riders, how = 'left', left_on='rider_id', right_on='Rider ID')\n",
        "\n",
        "# Preview merged dataframe\n",
        "train.head()"
      ],
      "execution_count": 674,
      "outputs": [
        {
          "output_type": "execute_result",
          "data": {
            "text/html": [
              "<div>\n",
              "<style scoped>\n",
              "    .dataframe tbody tr th:only-of-type {\n",
              "        vertical-align: middle;\n",
              "    }\n",
              "\n",
              "    .dataframe tbody tr th {\n",
              "        vertical-align: top;\n",
              "    }\n",
              "\n",
              "    .dataframe thead th {\n",
              "        text-align: right;\n",
              "    }\n",
              "</style>\n",
              "<table border=\"1\" class=\"dataframe\">\n",
              "  <thead>\n",
              "    <tr style=\"text-align: right;\">\n",
              "      <th></th>\n",
              "      <th>ID</th>\n",
              "      <th>order_id</th>\n",
              "      <th>dispatch_day</th>\n",
              "      <th>dispatch_day_of_week</th>\n",
              "      <th>dispatch_time</th>\n",
              "      <th>client_id</th>\n",
              "      <th>client_type</th>\n",
              "      <th>order_license_status</th>\n",
              "      <th>order_carrier_type</th>\n",
              "      <th>vendor_type</th>\n",
              "      <th>rider_id</th>\n",
              "      <th>rider_license_status</th>\n",
              "      <th>rider_carrier_type</th>\n",
              "      <th>rider_amount</th>\n",
              "      <th>rider_lat</th>\n",
              "      <th>rider_long</th>\n",
              "      <th>pickup_lat</th>\n",
              "      <th>pickup_long</th>\n",
              "      <th>drop_off_lat</th>\n",
              "      <th>drop_off_long</th>\n",
              "      <th>target</th>\n",
              "      <th>Rider ID</th>\n",
              "      <th>Active Rider Age</th>\n",
              "      <th>Average Partner Rating</th>\n",
              "      <th>Number of Ratings</th>\n",
              "    </tr>\n",
              "  </thead>\n",
              "  <tbody>\n",
              "    <tr>\n",
              "      <th>0</th>\n",
              "      <td>ID_SCUW21PVAU</td>\n",
              "      <td>4435</td>\n",
              "      <td>27</td>\n",
              "      <td>6</td>\n",
              "      <td>09:02:54</td>\n",
              "      <td>593630</td>\n",
              "      <td>Business</td>\n",
              "      <td>0</td>\n",
              "      <td>2</td>\n",
              "      <td>Bike</td>\n",
              "      <td>30153</td>\n",
              "      <td>0</td>\n",
              "      <td>1</td>\n",
              "      <td>1080</td>\n",
              "      <td>-42.698343</td>\n",
              "      <td>-17.228539</td>\n",
              "      <td>-42.692371</td>\n",
              "      <td>-17.248305</td>\n",
              "      <td>-42.687442</td>\n",
              "      <td>-17.424682</td>\n",
              "      <td>1</td>\n",
              "      <td>30153</td>\n",
              "      <td>11</td>\n",
              "      <td>10.00</td>\n",
              "      <td>1</td>\n",
              "    </tr>\n",
              "    <tr>\n",
              "      <th>1</th>\n",
              "      <td>ID_2HA7X30JMN</td>\n",
              "      <td>32711</td>\n",
              "      <td>30</td>\n",
              "      <td>7</td>\n",
              "      <td>13:01:37</td>\n",
              "      <td>837729</td>\n",
              "      <td>Personal</td>\n",
              "      <td>0</td>\n",
              "      <td>1</td>\n",
              "      <td>Bike</td>\n",
              "      <td>20884</td>\n",
              "      <td>0</td>\n",
              "      <td>1</td>\n",
              "      <td>730</td>\n",
              "      <td>-42.787317</td>\n",
              "      <td>-17.288252</td>\n",
              "      <td>-42.784046</td>\n",
              "      <td>-17.290121</td>\n",
              "      <td>-42.673267</td>\n",
              "      <td>-17.234595</td>\n",
              "      <td>2</td>\n",
              "      <td>20884</td>\n",
              "      <td>68</td>\n",
              "      <td>24.13</td>\n",
              "      <td>229</td>\n",
              "    </tr>\n",
              "    <tr>\n",
              "      <th>2</th>\n",
              "      <td>ID_IAJWDTBY6M</td>\n",
              "      <td>8712</td>\n",
              "      <td>14</td>\n",
              "      <td>2</td>\n",
              "      <td>10:01:00</td>\n",
              "      <td>695129</td>\n",
              "      <td>Personal</td>\n",
              "      <td>0</td>\n",
              "      <td>2</td>\n",
              "      <td>Bike</td>\n",
              "      <td>33143</td>\n",
              "      <td>1</td>\n",
              "      <td>1</td>\n",
              "      <td>490</td>\n",
              "      <td>-42.749180</td>\n",
              "      <td>-17.287848</td>\n",
              "      <td>-42.765204</td>\n",
              "      <td>-17.293784</td>\n",
              "      <td>-42.813953</td>\n",
              "      <td>-17.294805</td>\n",
              "      <td>1</td>\n",
              "      <td>33143</td>\n",
              "      <td>273</td>\n",
              "      <td>24.92</td>\n",
              "      <td>123</td>\n",
              "    </tr>\n",
              "    <tr>\n",
              "      <th>3</th>\n",
              "      <td>ID_LKSVPNYMTR</td>\n",
              "      <td>44869</td>\n",
              "      <td>22</td>\n",
              "      <td>3</td>\n",
              "      <td>14:11:16</td>\n",
              "      <td>1504660</td>\n",
              "      <td>Personal</td>\n",
              "      <td>0</td>\n",
              "      <td>2</td>\n",
              "      <td>Bike</td>\n",
              "      <td>96531</td>\n",
              "      <td>1</td>\n",
              "      <td>1</td>\n",
              "      <td>510</td>\n",
              "      <td>-42.836266</td>\n",
              "      <td>-17.311920</td>\n",
              "      <td>-42.831913</td>\n",
              "      <td>-17.315311</td>\n",
              "      <td>-42.812409</td>\n",
              "      <td>-17.265441</td>\n",
              "      <td>2</td>\n",
              "      <td>96531</td>\n",
              "      <td>168</td>\n",
              "      <td>23.76</td>\n",
              "      <td>175</td>\n",
              "    </tr>\n",
              "    <tr>\n",
              "      <th>4</th>\n",
              "      <td>ID_O7N8Y918YH</td>\n",
              "      <td>57590</td>\n",
              "      <td>27</td>\n",
              "      <td>5</td>\n",
              "      <td>16:11:38</td>\n",
              "      <td>36869</td>\n",
              "      <td>Business</td>\n",
              "      <td>0</td>\n",
              "      <td>2</td>\n",
              "      <td>Bike</td>\n",
              "      <td>103546</td>\n",
              "      <td>0</td>\n",
              "      <td>0</td>\n",
              "      <td>400</td>\n",
              "      <td>-42.828195</td>\n",
              "      <td>-17.322818</td>\n",
              "      <td>-42.836056</td>\n",
              "      <td>-17.318111</td>\n",
              "      <td>-42.828517</td>\n",
              "      <td>-17.302052</td>\n",
              "      <td>0</td>\n",
              "      <td>103546</td>\n",
              "      <td>95</td>\n",
              "      <td>24.53</td>\n",
              "      <td>42</td>\n",
              "    </tr>\n",
              "  </tbody>\n",
              "</table>\n",
              "</div>"
            ],
            "text/plain": [
              "              ID  order_id  ...  Average Partner Rating  Number of Ratings\n",
              "0  ID_SCUW21PVAU      4435  ...                   10.00                  1\n",
              "1  ID_2HA7X30JMN     32711  ...                   24.13                229\n",
              "2  ID_IAJWDTBY6M      8712  ...                   24.92                123\n",
              "3  ID_LKSVPNYMTR     44869  ...                   23.76                175\n",
              "4  ID_O7N8Y918YH     57590  ...                   24.53                 42\n",
              "\n",
              "[5 rows x 25 columns]"
            ]
          },
          "metadata": {
            "tags": []
          },
          "execution_count": 674
        }
      ]
    },
    {
      "cell_type": "code",
      "metadata": {
        "id": "0kcAEeIs2gco",
        "colab": {
          "base_uri": "https://localhost:8080/"
        },
        "outputId": "8238ef93-e59e-4e01-f8e4-c5acbf3e863e"
      },
      "source": [
        "#check info for test\n",
        "test.info()"
      ],
      "execution_count": 675,
      "outputs": [
        {
          "output_type": "stream",
          "text": [
            "<class 'pandas.core.frame.DataFrame'>\n",
            "Int64Index: 76791 entries, 0 to 76790\n",
            "Data columns (total 24 columns):\n",
            " #   Column                  Non-Null Count  Dtype  \n",
            "---  ------                  --------------  -----  \n",
            " 0   ID                      76791 non-null  object \n",
            " 1   order_id                76791 non-null  int64  \n",
            " 2   dispatch_day            76791 non-null  int64  \n",
            " 3   dispatch_day_of_week    76791 non-null  int64  \n",
            " 4   dispatch_time           76791 non-null  object \n",
            " 5   client_id               76791 non-null  int64  \n",
            " 6   client_type             76791 non-null  object \n",
            " 7   order_license_status    76791 non-null  int64  \n",
            " 8   order_carrier_type      76791 non-null  int64  \n",
            " 9   vendor_type             76791 non-null  object \n",
            " 10  rider_id                76791 non-null  int64  \n",
            " 11  rider_license_status    76791 non-null  int64  \n",
            " 12  rider_carrier_type      76791 non-null  int64  \n",
            " 13  rider_amount            76791 non-null  int64  \n",
            " 14  rider_lat               76791 non-null  float64\n",
            " 15  rider_long              76791 non-null  float64\n",
            " 16  pickup_lat              76791 non-null  float64\n",
            " 17  pickup_long             76791 non-null  float64\n",
            " 18  drop_off_lat            76791 non-null  float64\n",
            " 19  drop_off_long           76791 non-null  float64\n",
            " 20  Rider ID                76791 non-null  int64  \n",
            " 21  Active Rider Age        76791 non-null  int64  \n",
            " 22  Average Partner Rating  76791 non-null  float64\n",
            " 23  Number of Ratings       76791 non-null  int64  \n",
            "dtypes: float64(7), int64(13), object(4)\n",
            "memory usage: 14.6+ MB\n"
          ],
          "name": "stdout"
        }
      ]
    },
    {
      "cell_type": "code",
      "metadata": {
        "id": "SlJ91Xf_NYoh",
        "colab": {
          "base_uri": "https://localhost:8080/"
        },
        "outputId": "c717e081-1b44-43bf-bf25-b03317c0b27c"
      },
      "source": [
        "#Check the train data info\n",
        "train.info()"
      ],
      "execution_count": 676,
      "outputs": [
        {
          "output_type": "stream",
          "text": [
            "<class 'pandas.core.frame.DataFrame'>\n",
            "Int64Index: 179867 entries, 0 to 179866\n",
            "Data columns (total 25 columns):\n",
            " #   Column                  Non-Null Count   Dtype  \n",
            "---  ------                  --------------   -----  \n",
            " 0   ID                      179867 non-null  object \n",
            " 1   order_id                179867 non-null  int64  \n",
            " 2   dispatch_day            179867 non-null  int64  \n",
            " 3   dispatch_day_of_week    179867 non-null  int64  \n",
            " 4   dispatch_time           179867 non-null  object \n",
            " 5   client_id               179867 non-null  int64  \n",
            " 6   client_type             179867 non-null  object \n",
            " 7   order_license_status    179867 non-null  int64  \n",
            " 8   order_carrier_type      179867 non-null  int64  \n",
            " 9   vendor_type             179867 non-null  object \n",
            " 10  rider_id                179867 non-null  int64  \n",
            " 11  rider_license_status    179867 non-null  int64  \n",
            " 12  rider_carrier_type      179867 non-null  int64  \n",
            " 13  rider_amount            179867 non-null  int64  \n",
            " 14  rider_lat               179867 non-null  float64\n",
            " 15  rider_long              179867 non-null  float64\n",
            " 16  pickup_lat              179867 non-null  float64\n",
            " 17  pickup_long             179867 non-null  float64\n",
            " 18  drop_off_lat            179867 non-null  float64\n",
            " 19  drop_off_long           179867 non-null  float64\n",
            " 20  target                  179867 non-null  int64  \n",
            " 21  Rider ID                179867 non-null  int64  \n",
            " 22  Active Rider Age        179867 non-null  int64  \n",
            " 23  Average Partner Rating  179867 non-null  float64\n",
            " 24  Number of Ratings       179867 non-null  int64  \n",
            "dtypes: float64(7), int64(14), object(4)\n",
            "memory usage: 35.7+ MB\n"
          ],
          "name": "stdout"
        }
      ]
    },
    {
      "cell_type": "code",
      "metadata": {
        "id": "PdVvmpG_GRxA",
        "colab": {
          "base_uri": "https://localhost:8080/"
        },
        "outputId": "6c01c050-b18e-47dc-c9e2-7dbe6e06cdef"
      },
      "source": [
        "# Check the shape of the train and test sets\n",
        "print(f'The shape of the train set is: {train.shape}\\nThe shape of the test set is: {test.shape}')"
      ],
      "execution_count": 677,
      "outputs": [
        {
          "output_type": "stream",
          "text": [
            "The shape of the train set is: (179867, 25)\n",
            "The shape of the test set is: (76791, 24)\n"
          ],
          "name": "stdout"
        }
      ]
    },
    {
      "cell_type": "markdown",
      "metadata": {
        "id": "kDt55afMY9YZ"
      },
      "source": [
        "#Data Cleaning"
      ]
    },
    {
      "cell_type": "markdown",
      "metadata": {
        "id": "9CO1R3hi8FJQ"
      },
      "source": [
        "### Check for missing values"
      ]
    },
    {
      "cell_type": "code",
      "metadata": {
        "id": "cVoFoquiZKKN",
        "colab": {
          "base_uri": "https://localhost:8080/"
        },
        "outputId": "3f62fc9c-24fd-4b1b-eb52-7bf42bfd7e03"
      },
      "source": [
        "train.isnull().sum()\n",
        "test.isnull().sum()\n",
        "\n",
        "#There are no missing values"
      ],
      "execution_count": 678,
      "outputs": [
        {
          "output_type": "execute_result",
          "data": {
            "text/plain": [
              "ID                        0\n",
              "order_id                  0\n",
              "dispatch_day              0\n",
              "dispatch_day_of_week      0\n",
              "dispatch_time             0\n",
              "client_id                 0\n",
              "client_type               0\n",
              "order_license_status      0\n",
              "order_carrier_type        0\n",
              "vendor_type               0\n",
              "rider_id                  0\n",
              "rider_license_status      0\n",
              "rider_carrier_type        0\n",
              "rider_amount              0\n",
              "rider_lat                 0\n",
              "rider_long                0\n",
              "pickup_lat                0\n",
              "pickup_long               0\n",
              "drop_off_lat              0\n",
              "drop_off_long             0\n",
              "Rider ID                  0\n",
              "Active Rider Age          0\n",
              "Average Partner Rating    0\n",
              "Number of Ratings         0\n",
              "dtype: int64"
            ]
          },
          "metadata": {
            "tags": []
          },
          "execution_count": 678
        }
      ]
    },
    {
      "cell_type": "code",
      "metadata": {
        "id": "PnGVLoE2GRqL",
        "colab": {
          "base_uri": "https://localhost:8080/"
        },
        "outputId": "a8c1623b-ffa1-449e-fdb5-2dddcd76a57a"
      },
      "source": [
        "# Check for duplicates\n",
        "print(train.duplicated().any(), test.duplicated().any())\n",
        "#There are no duplicates"
      ],
      "execution_count": 679,
      "outputs": [
        {
          "output_type": "stream",
          "text": [
            "False False\n"
          ],
          "name": "stdout"
        }
      ]
    },
    {
      "cell_type": "code",
      "metadata": {
        "id": "GBvZoGji27oO"
      },
      "source": [
        "#Renaming columns\n",
        "num_test = test.select_dtypes(include=np.number)\n",
        "# num_test.columns\n",
        "num_train = train.select_dtypes(include=np.number)\n",
        "# num_train.columns"
      ],
      "execution_count": 680,
      "outputs": []
    },
    {
      "cell_type": "code",
      "metadata": {
        "id": "ZR1hF5ob3QTi",
        "colab": {
          "base_uri": "https://localhost:8080/"
        },
        "outputId": "64c52ce6-8e75-4d09-b7aa-d8ac8155194c"
      },
      "source": [
        "#Removing spaces from the column names and replacing it with an underscore\n",
        "test.columns = test.columns.str.replace(\" \",\"_\")\n",
        "\n",
        "#Changing the names of the columns to lowercase\n",
        "test.columns = map(str.lower, test.columns)\n",
        "list(test.columns)"
      ],
      "execution_count": 681,
      "outputs": [
        {
          "output_type": "execute_result",
          "data": {
            "text/plain": [
              "['id',\n",
              " 'order_id',\n",
              " 'dispatch_day',\n",
              " 'dispatch_day_of_week',\n",
              " 'dispatch_time',\n",
              " 'client_id',\n",
              " 'client_type',\n",
              " 'order_license_status',\n",
              " 'order_carrier_type',\n",
              " 'vendor_type',\n",
              " 'rider_id',\n",
              " 'rider_license_status',\n",
              " 'rider_carrier_type',\n",
              " 'rider_amount',\n",
              " 'rider_lat',\n",
              " 'rider_long',\n",
              " 'pickup_lat',\n",
              " 'pickup_long',\n",
              " 'drop_off_lat',\n",
              " 'drop_off_long',\n",
              " 'rider_id',\n",
              " 'active_rider_age',\n",
              " 'average_partner_rating',\n",
              " 'number_of_ratings']"
            ]
          },
          "metadata": {
            "tags": []
          },
          "execution_count": 681
        }
      ]
    },
    {
      "cell_type": "code",
      "metadata": {
        "id": "aDdI07l4esdR",
        "colab": {
          "base_uri": "https://localhost:8080/"
        },
        "outputId": "65eca2aa-0156-4e61-cd86-4338d6b82f02"
      },
      "source": [
        "# Removing spaces from the column names and replacing it with an underscore\n",
        "train.columns = train.columns.str.replace(\" \",\"_\")\n",
        "#Changing the names of the columns to lowercase\n",
        "train.columns = map(str.lower, train.columns)\n",
        "list(train.columns)"
      ],
      "execution_count": 682,
      "outputs": [
        {
          "output_type": "execute_result",
          "data": {
            "text/plain": [
              "['id',\n",
              " 'order_id',\n",
              " 'dispatch_day',\n",
              " 'dispatch_day_of_week',\n",
              " 'dispatch_time',\n",
              " 'client_id',\n",
              " 'client_type',\n",
              " 'order_license_status',\n",
              " 'order_carrier_type',\n",
              " 'vendor_type',\n",
              " 'rider_id',\n",
              " 'rider_license_status',\n",
              " 'rider_carrier_type',\n",
              " 'rider_amount',\n",
              " 'rider_lat',\n",
              " 'rider_long',\n",
              " 'pickup_lat',\n",
              " 'pickup_long',\n",
              " 'drop_off_lat',\n",
              " 'drop_off_long',\n",
              " 'target',\n",
              " 'rider_id',\n",
              " 'active_rider_age',\n",
              " 'average_partner_rating',\n",
              " 'number_of_ratings']"
            ]
          },
          "metadata": {
            "tags": []
          },
          "execution_count": 682
        }
      ]
    },
    {
      "cell_type": "code",
      "metadata": {
        "id": "ndd1PymsLRiN",
        "colab": {
          "base_uri": "https://localhost:8080/"
        },
        "outputId": "a76292c0-13bf-4f86-c96c-c9179c3df325"
      },
      "source": [
        "# One hot encoding\n",
        "print(train.info())\n",
        "train = pd.get_dummies(train, columns=['client_type', 'vendor_type'])\n",
        "test = pd.get_dummies(test, columns=['client_type', 'vendor_type'])"
      ],
      "execution_count": 683,
      "outputs": [
        {
          "output_type": "stream",
          "text": [
            "<class 'pandas.core.frame.DataFrame'>\n",
            "Int64Index: 179867 entries, 0 to 179866\n",
            "Data columns (total 25 columns):\n",
            " #   Column                  Non-Null Count   Dtype  \n",
            "---  ------                  --------------   -----  \n",
            " 0   id                      179867 non-null  object \n",
            " 1   order_id                179867 non-null  int64  \n",
            " 2   dispatch_day            179867 non-null  int64  \n",
            " 3   dispatch_day_of_week    179867 non-null  int64  \n",
            " 4   dispatch_time           179867 non-null  object \n",
            " 5   client_id               179867 non-null  int64  \n",
            " 6   client_type             179867 non-null  object \n",
            " 7   order_license_status    179867 non-null  int64  \n",
            " 8   order_carrier_type      179867 non-null  int64  \n",
            " 9   vendor_type             179867 non-null  object \n",
            " 10  rider_id                179867 non-null  int64  \n",
            " 11  rider_license_status    179867 non-null  int64  \n",
            " 12  rider_carrier_type      179867 non-null  int64  \n",
            " 13  rider_amount            179867 non-null  int64  \n",
            " 14  rider_lat               179867 non-null  float64\n",
            " 15  rider_long              179867 non-null  float64\n",
            " 16  pickup_lat              179867 non-null  float64\n",
            " 17  pickup_long             179867 non-null  float64\n",
            " 18  drop_off_lat            179867 non-null  float64\n",
            " 19  drop_off_long           179867 non-null  float64\n",
            " 20  target                  179867 non-null  int64  \n",
            " 21  rider_id                179867 non-null  int64  \n",
            " 22  active_rider_age        179867 non-null  int64  \n",
            " 23  average_partner_rating  179867 non-null  float64\n",
            " 24  number_of_ratings       179867 non-null  int64  \n",
            "dtypes: float64(7), int64(14), object(4)\n",
            "memory usage: 35.7+ MB\n",
            "None\n"
          ],
          "name": "stdout"
        }
      ]
    },
    {
      "cell_type": "code",
      "metadata": {
        "id": "Txc9XTl3Bdho"
      },
      "source": [
        "# Changing the dispatch time to date time format\n",
        "import datetime\n",
        "\n",
        "train['dispatch_time'] = pd.to_datetime(train['dispatch_time'])\n",
        "train['year'] = train['dispatch_time'].dt.year\n",
        "train['year'].value_counts().sum()\n",
        "\n",
        "# Test data\n",
        "\n",
        "test['dispatch_time'] = pd.to_datetime(test['dispatch_time'])\n",
        "test['year'] = test['dispatch_time'].dt.year\n",
        "#\n",
        "\n",
        "# This seems to be data for the 2021-03-27 only"
      ],
      "execution_count": 684,
      "outputs": []
    },
    {
      "cell_type": "code",
      "metadata": {
        "id": "A2YL8ds599VO",
        "colab": {
          "base_uri": "https://localhost:8080/",
          "height": 301
        },
        "outputId": "c44b2d71-c01b-4367-82e3-806351658c3d"
      },
      "source": [
        "train.head()"
      ],
      "execution_count": 685,
      "outputs": [
        {
          "output_type": "execute_result",
          "data": {
            "text/html": [
              "<div>\n",
              "<style scoped>\n",
              "    .dataframe tbody tr th:only-of-type {\n",
              "        vertical-align: middle;\n",
              "    }\n",
              "\n",
              "    .dataframe tbody tr th {\n",
              "        vertical-align: top;\n",
              "    }\n",
              "\n",
              "    .dataframe thead th {\n",
              "        text-align: right;\n",
              "    }\n",
              "</style>\n",
              "<table border=\"1\" class=\"dataframe\">\n",
              "  <thead>\n",
              "    <tr style=\"text-align: right;\">\n",
              "      <th></th>\n",
              "      <th>id</th>\n",
              "      <th>order_id</th>\n",
              "      <th>dispatch_day</th>\n",
              "      <th>dispatch_day_of_week</th>\n",
              "      <th>dispatch_time</th>\n",
              "      <th>client_id</th>\n",
              "      <th>order_license_status</th>\n",
              "      <th>order_carrier_type</th>\n",
              "      <th>rider_id</th>\n",
              "      <th>rider_license_status</th>\n",
              "      <th>rider_carrier_type</th>\n",
              "      <th>rider_amount</th>\n",
              "      <th>rider_lat</th>\n",
              "      <th>rider_long</th>\n",
              "      <th>pickup_lat</th>\n",
              "      <th>pickup_long</th>\n",
              "      <th>drop_off_lat</th>\n",
              "      <th>drop_off_long</th>\n",
              "      <th>target</th>\n",
              "      <th>rider_id</th>\n",
              "      <th>active_rider_age</th>\n",
              "      <th>average_partner_rating</th>\n",
              "      <th>number_of_ratings</th>\n",
              "      <th>client_type_Business</th>\n",
              "      <th>client_type_Personal</th>\n",
              "      <th>vendor_type_Bike</th>\n",
              "      <th>year</th>\n",
              "    </tr>\n",
              "  </thead>\n",
              "  <tbody>\n",
              "    <tr>\n",
              "      <th>0</th>\n",
              "      <td>ID_SCUW21PVAU</td>\n",
              "      <td>4435</td>\n",
              "      <td>27</td>\n",
              "      <td>6</td>\n",
              "      <td>2021-04-06 09:02:54</td>\n",
              "      <td>593630</td>\n",
              "      <td>0</td>\n",
              "      <td>2</td>\n",
              "      <td>30153</td>\n",
              "      <td>0</td>\n",
              "      <td>1</td>\n",
              "      <td>1080</td>\n",
              "      <td>-42.698343</td>\n",
              "      <td>-17.228539</td>\n",
              "      <td>-42.692371</td>\n",
              "      <td>-17.248305</td>\n",
              "      <td>-42.687442</td>\n",
              "      <td>-17.424682</td>\n",
              "      <td>1</td>\n",
              "      <td>30153</td>\n",
              "      <td>11</td>\n",
              "      <td>10.00</td>\n",
              "      <td>1</td>\n",
              "      <td>1</td>\n",
              "      <td>0</td>\n",
              "      <td>1</td>\n",
              "      <td>2021</td>\n",
              "    </tr>\n",
              "    <tr>\n",
              "      <th>1</th>\n",
              "      <td>ID_2HA7X30JMN</td>\n",
              "      <td>32711</td>\n",
              "      <td>30</td>\n",
              "      <td>7</td>\n",
              "      <td>2021-04-06 13:01:37</td>\n",
              "      <td>837729</td>\n",
              "      <td>0</td>\n",
              "      <td>1</td>\n",
              "      <td>20884</td>\n",
              "      <td>0</td>\n",
              "      <td>1</td>\n",
              "      <td>730</td>\n",
              "      <td>-42.787317</td>\n",
              "      <td>-17.288252</td>\n",
              "      <td>-42.784046</td>\n",
              "      <td>-17.290121</td>\n",
              "      <td>-42.673267</td>\n",
              "      <td>-17.234595</td>\n",
              "      <td>2</td>\n",
              "      <td>20884</td>\n",
              "      <td>68</td>\n",
              "      <td>24.13</td>\n",
              "      <td>229</td>\n",
              "      <td>0</td>\n",
              "      <td>1</td>\n",
              "      <td>1</td>\n",
              "      <td>2021</td>\n",
              "    </tr>\n",
              "    <tr>\n",
              "      <th>2</th>\n",
              "      <td>ID_IAJWDTBY6M</td>\n",
              "      <td>8712</td>\n",
              "      <td>14</td>\n",
              "      <td>2</td>\n",
              "      <td>2021-04-06 10:01:00</td>\n",
              "      <td>695129</td>\n",
              "      <td>0</td>\n",
              "      <td>2</td>\n",
              "      <td>33143</td>\n",
              "      <td>1</td>\n",
              "      <td>1</td>\n",
              "      <td>490</td>\n",
              "      <td>-42.749180</td>\n",
              "      <td>-17.287848</td>\n",
              "      <td>-42.765204</td>\n",
              "      <td>-17.293784</td>\n",
              "      <td>-42.813953</td>\n",
              "      <td>-17.294805</td>\n",
              "      <td>1</td>\n",
              "      <td>33143</td>\n",
              "      <td>273</td>\n",
              "      <td>24.92</td>\n",
              "      <td>123</td>\n",
              "      <td>0</td>\n",
              "      <td>1</td>\n",
              "      <td>1</td>\n",
              "      <td>2021</td>\n",
              "    </tr>\n",
              "    <tr>\n",
              "      <th>3</th>\n",
              "      <td>ID_LKSVPNYMTR</td>\n",
              "      <td>44869</td>\n",
              "      <td>22</td>\n",
              "      <td>3</td>\n",
              "      <td>2021-04-06 14:11:16</td>\n",
              "      <td>1504660</td>\n",
              "      <td>0</td>\n",
              "      <td>2</td>\n",
              "      <td>96531</td>\n",
              "      <td>1</td>\n",
              "      <td>1</td>\n",
              "      <td>510</td>\n",
              "      <td>-42.836266</td>\n",
              "      <td>-17.311920</td>\n",
              "      <td>-42.831913</td>\n",
              "      <td>-17.315311</td>\n",
              "      <td>-42.812409</td>\n",
              "      <td>-17.265441</td>\n",
              "      <td>2</td>\n",
              "      <td>96531</td>\n",
              "      <td>168</td>\n",
              "      <td>23.76</td>\n",
              "      <td>175</td>\n",
              "      <td>0</td>\n",
              "      <td>1</td>\n",
              "      <td>1</td>\n",
              "      <td>2021</td>\n",
              "    </tr>\n",
              "    <tr>\n",
              "      <th>4</th>\n",
              "      <td>ID_O7N8Y918YH</td>\n",
              "      <td>57590</td>\n",
              "      <td>27</td>\n",
              "      <td>5</td>\n",
              "      <td>2021-04-06 16:11:38</td>\n",
              "      <td>36869</td>\n",
              "      <td>0</td>\n",
              "      <td>2</td>\n",
              "      <td>103546</td>\n",
              "      <td>0</td>\n",
              "      <td>0</td>\n",
              "      <td>400</td>\n",
              "      <td>-42.828195</td>\n",
              "      <td>-17.322818</td>\n",
              "      <td>-42.836056</td>\n",
              "      <td>-17.318111</td>\n",
              "      <td>-42.828517</td>\n",
              "      <td>-17.302052</td>\n",
              "      <td>0</td>\n",
              "      <td>103546</td>\n",
              "      <td>95</td>\n",
              "      <td>24.53</td>\n",
              "      <td>42</td>\n",
              "      <td>1</td>\n",
              "      <td>0</td>\n",
              "      <td>1</td>\n",
              "      <td>2021</td>\n",
              "    </tr>\n",
              "  </tbody>\n",
              "</table>\n",
              "</div>"
            ],
            "text/plain": [
              "              id  order_id  ...  vendor_type_Bike  year\n",
              "0  ID_SCUW21PVAU      4435  ...                 1  2021\n",
              "1  ID_2HA7X30JMN     32711  ...                 1  2021\n",
              "2  ID_IAJWDTBY6M      8712  ...                 1  2021\n",
              "3  ID_LKSVPNYMTR     44869  ...                 1  2021\n",
              "4  ID_O7N8Y918YH     57590  ...                 1  2021\n",
              "\n",
              "[5 rows x 27 columns]"
            ]
          },
          "metadata": {
            "tags": []
          },
          "execution_count": 685
        }
      ]
    },
    {
      "cell_type": "code",
      "metadata": {
        "id": "l7X3nzJBDT2q",
        "colab": {
          "base_uri": "https://localhost:8080/"
        },
        "outputId": "07f61567-fd78-459e-bb58-9ad47c4c5583"
      },
      "source": [
        "train['target'].dtypes"
      ],
      "execution_count": 686,
      "outputs": [
        {
          "output_type": "execute_result",
          "data": {
            "text/plain": [
              "dtype('int64')"
            ]
          },
          "metadata": {
            "tags": []
          },
          "execution_count": 686
        }
      ]
    },
    {
      "cell_type": "code",
      "metadata": {
        "id": "Hooc2ukq9HhY",
        "colab": {
          "base_uri": "https://localhost:8080/",
          "height": 593
        },
        "outputId": "f5b076e3-ca49-41f8-e7b8-e1917b28de89"
      },
      "source": [
        "df = train.groupby(['dispatch_time'])\n",
        "df.sample()"
      ],
      "execution_count": 687,
      "outputs": [
        {
          "output_type": "execute_result",
          "data": {
            "text/html": [
              "<div>\n",
              "<style scoped>\n",
              "    .dataframe tbody tr th:only-of-type {\n",
              "        vertical-align: middle;\n",
              "    }\n",
              "\n",
              "    .dataframe tbody tr th {\n",
              "        vertical-align: top;\n",
              "    }\n",
              "\n",
              "    .dataframe thead th {\n",
              "        text-align: right;\n",
              "    }\n",
              "</style>\n",
              "<table border=\"1\" class=\"dataframe\">\n",
              "  <thead>\n",
              "    <tr style=\"text-align: right;\">\n",
              "      <th></th>\n",
              "      <th>id</th>\n",
              "      <th>order_id</th>\n",
              "      <th>dispatch_day</th>\n",
              "      <th>dispatch_day_of_week</th>\n",
              "      <th>dispatch_time</th>\n",
              "      <th>client_id</th>\n",
              "      <th>order_license_status</th>\n",
              "      <th>order_carrier_type</th>\n",
              "      <th>rider_id</th>\n",
              "      <th>rider_license_status</th>\n",
              "      <th>rider_carrier_type</th>\n",
              "      <th>rider_amount</th>\n",
              "      <th>rider_lat</th>\n",
              "      <th>rider_long</th>\n",
              "      <th>pickup_lat</th>\n",
              "      <th>pickup_long</th>\n",
              "      <th>drop_off_lat</th>\n",
              "      <th>drop_off_long</th>\n",
              "      <th>target</th>\n",
              "      <th>rider_id</th>\n",
              "      <th>active_rider_age</th>\n",
              "      <th>average_partner_rating</th>\n",
              "      <th>number_of_ratings</th>\n",
              "      <th>client_type_Business</th>\n",
              "      <th>client_type_Personal</th>\n",
              "      <th>vendor_type_Bike</th>\n",
              "      <th>year</th>\n",
              "    </tr>\n",
              "  </thead>\n",
              "  <tbody>\n",
              "    <tr>\n",
              "      <th>112539</th>\n",
              "      <td>ID_LDIQQ9E679</td>\n",
              "      <td>100</td>\n",
              "      <td>2</td>\n",
              "      <td>7</td>\n",
              "      <td>2021-04-06 00:01:04</td>\n",
              "      <td>446223</td>\n",
              "      <td>0</td>\n",
              "      <td>2</td>\n",
              "      <td>33143</td>\n",
              "      <td>1</td>\n",
              "      <td>1</td>\n",
              "      <td>500</td>\n",
              "      <td>-42.766907</td>\n",
              "      <td>-17.322904</td>\n",
              "      <td>-42.774822</td>\n",
              "      <td>-17.298110</td>\n",
              "      <td>-42.775535</td>\n",
              "      <td>-17.299096</td>\n",
              "      <td>0</td>\n",
              "      <td>33143</td>\n",
              "      <td>273</td>\n",
              "      <td>24.92</td>\n",
              "      <td>123</td>\n",
              "      <td>1</td>\n",
              "      <td>0</td>\n",
              "      <td>1</td>\n",
              "      <td>2021</td>\n",
              "    </tr>\n",
              "    <tr>\n",
              "      <th>69448</th>\n",
              "      <td>ID_MN6TFA2MGQ</td>\n",
              "      <td>101</td>\n",
              "      <td>2</td>\n",
              "      <td>6</td>\n",
              "      <td>2021-04-06 01:10:34</td>\n",
              "      <td>446223</td>\n",
              "      <td>0</td>\n",
              "      <td>2</td>\n",
              "      <td>84939</td>\n",
              "      <td>1</td>\n",
              "      <td>1</td>\n",
              "      <td>500</td>\n",
              "      <td>-42.687422</td>\n",
              "      <td>-17.420480</td>\n",
              "      <td>-42.688648</td>\n",
              "      <td>-17.414603</td>\n",
              "      <td>-42.688399</td>\n",
              "      <td>-17.426395</td>\n",
              "      <td>2</td>\n",
              "      <td>84939</td>\n",
              "      <td>4</td>\n",
              "      <td>18.73</td>\n",
              "      <td>38</td>\n",
              "      <td>1</td>\n",
              "      <td>0</td>\n",
              "      <td>1</td>\n",
              "      <td>2021</td>\n",
              "    </tr>\n",
              "    <tr>\n",
              "      <th>157623</th>\n",
              "      <td>ID_BM5TICOLTU</td>\n",
              "      <td>102</td>\n",
              "      <td>22</td>\n",
              "      <td>5</td>\n",
              "      <td>2021-04-06 05:09:54</td>\n",
              "      <td>1614830</td>\n",
              "      <td>0</td>\n",
              "      <td>2</td>\n",
              "      <td>98371</td>\n",
              "      <td>0</td>\n",
              "      <td>0</td>\n",
              "      <td>670</td>\n",
              "      <td>-42.807322</td>\n",
              "      <td>-17.254272</td>\n",
              "      <td>-42.797920</td>\n",
              "      <td>-17.275524</td>\n",
              "      <td>-42.828667</td>\n",
              "      <td>-17.305746</td>\n",
              "      <td>0</td>\n",
              "      <td>98371</td>\n",
              "      <td>88</td>\n",
              "      <td>19.36</td>\n",
              "      <td>5</td>\n",
              "      <td>0</td>\n",
              "      <td>1</td>\n",
              "      <td>1</td>\n",
              "      <td>2021</td>\n",
              "    </tr>\n",
              "    <tr>\n",
              "      <th>5425</th>\n",
              "      <td>ID_AV19QL6V97</td>\n",
              "      <td>103</td>\n",
              "      <td>9</td>\n",
              "      <td>7</td>\n",
              "      <td>2021-04-06 06:01:00</td>\n",
              "      <td>1306032</td>\n",
              "      <td>0</td>\n",
              "      <td>1</td>\n",
              "      <td>74888</td>\n",
              "      <td>0</td>\n",
              "      <td>1</td>\n",
              "      <td>790</td>\n",
              "      <td>-42.890346</td>\n",
              "      <td>-17.230342</td>\n",
              "      <td>-42.873441</td>\n",
              "      <td>-17.258865</td>\n",
              "      <td>-42.738255</td>\n",
              "      <td>-17.269183</td>\n",
              "      <td>0</td>\n",
              "      <td>74888</td>\n",
              "      <td>164</td>\n",
              "      <td>13.32</td>\n",
              "      <td>20</td>\n",
              "      <td>0</td>\n",
              "      <td>1</td>\n",
              "      <td>1</td>\n",
              "      <td>2021</td>\n",
              "    </tr>\n",
              "    <tr>\n",
              "      <th>178714</th>\n",
              "      <td>ID_FUOHG41I9Q</td>\n",
              "      <td>105</td>\n",
              "      <td>12</td>\n",
              "      <td>4</td>\n",
              "      <td>2021-04-06 06:01:01</td>\n",
              "      <td>2431560</td>\n",
              "      <td>0</td>\n",
              "      <td>2</td>\n",
              "      <td>87124</td>\n",
              "      <td>0</td>\n",
              "      <td>0</td>\n",
              "      <td>1160</td>\n",
              "      <td>-42.937736</td>\n",
              "      <td>-17.407398</td>\n",
              "      <td>-42.950397</td>\n",
              "      <td>-17.403955</td>\n",
              "      <td>-42.860532</td>\n",
              "      <td>-17.224275</td>\n",
              "      <td>0</td>\n",
              "      <td>87124</td>\n",
              "      <td>166</td>\n",
              "      <td>16.23</td>\n",
              "      <td>35</td>\n",
              "      <td>0</td>\n",
              "      <td>1</td>\n",
              "      <td>1</td>\n",
              "      <td>2021</td>\n",
              "    </tr>\n",
              "    <tr>\n",
              "      <th>...</th>\n",
              "      <td>...</td>\n",
              "      <td>...</td>\n",
              "      <td>...</td>\n",
              "      <td>...</td>\n",
              "      <td>...</td>\n",
              "      <td>...</td>\n",
              "      <td>...</td>\n",
              "      <td>...</td>\n",
              "      <td>...</td>\n",
              "      <td>...</td>\n",
              "      <td>...</td>\n",
              "      <td>...</td>\n",
              "      <td>...</td>\n",
              "      <td>...</td>\n",
              "      <td>...</td>\n",
              "      <td>...</td>\n",
              "      <td>...</td>\n",
              "      <td>...</td>\n",
              "      <td>...</td>\n",
              "      <td>...</td>\n",
              "      <td>...</td>\n",
              "      <td>...</td>\n",
              "      <td>...</td>\n",
              "      <td>...</td>\n",
              "      <td>...</td>\n",
              "      <td>...</td>\n",
              "      <td>...</td>\n",
              "    </tr>\n",
              "    <tr>\n",
              "      <th>36778</th>\n",
              "      <td>ID_VMO3EP1L4U</td>\n",
              "      <td>64424</td>\n",
              "      <td>3</td>\n",
              "      <td>6</td>\n",
              "      <td>2021-04-06 23:01:34</td>\n",
              "      <td>446223</td>\n",
              "      <td>0</td>\n",
              "      <td>2</td>\n",
              "      <td>33143</td>\n",
              "      <td>1</td>\n",
              "      <td>1</td>\n",
              "      <td>500</td>\n",
              "      <td>-42.766907</td>\n",
              "      <td>-17.322904</td>\n",
              "      <td>-42.774822</td>\n",
              "      <td>-17.298110</td>\n",
              "      <td>-42.775535</td>\n",
              "      <td>-17.299096</td>\n",
              "      <td>0</td>\n",
              "      <td>33143</td>\n",
              "      <td>273</td>\n",
              "      <td>24.92</td>\n",
              "      <td>123</td>\n",
              "      <td>1</td>\n",
              "      <td>0</td>\n",
              "      <td>1</td>\n",
              "      <td>2021</td>\n",
              "    </tr>\n",
              "    <tr>\n",
              "      <th>77837</th>\n",
              "      <td>ID_3UC69MNNOT</td>\n",
              "      <td>64425</td>\n",
              "      <td>3</td>\n",
              "      <td>6</td>\n",
              "      <td>2021-04-06 23:01:35</td>\n",
              "      <td>446223</td>\n",
              "      <td>0</td>\n",
              "      <td>2</td>\n",
              "      <td>33143</td>\n",
              "      <td>1</td>\n",
              "      <td>1</td>\n",
              "      <td>500</td>\n",
              "      <td>-42.767105</td>\n",
              "      <td>-17.322841</td>\n",
              "      <td>-42.774890</td>\n",
              "      <td>-17.297979</td>\n",
              "      <td>-42.782982</td>\n",
              "      <td>-17.325312</td>\n",
              "      <td>0</td>\n",
              "      <td>33143</td>\n",
              "      <td>273</td>\n",
              "      <td>24.92</td>\n",
              "      <td>123</td>\n",
              "      <td>1</td>\n",
              "      <td>0</td>\n",
              "      <td>1</td>\n",
              "      <td>2021</td>\n",
              "    </tr>\n",
              "    <tr>\n",
              "      <th>58799</th>\n",
              "      <td>ID_QVRILTPY6S</td>\n",
              "      <td>64425</td>\n",
              "      <td>3</td>\n",
              "      <td>6</td>\n",
              "      <td>2021-04-06 23:01:42</td>\n",
              "      <td>446223</td>\n",
              "      <td>0</td>\n",
              "      <td>2</td>\n",
              "      <td>40480</td>\n",
              "      <td>1</td>\n",
              "      <td>1</td>\n",
              "      <td>500</td>\n",
              "      <td>-42.753927</td>\n",
              "      <td>-17.322723</td>\n",
              "      <td>-42.774890</td>\n",
              "      <td>-17.297979</td>\n",
              "      <td>-42.782982</td>\n",
              "      <td>-17.325312</td>\n",
              "      <td>0</td>\n",
              "      <td>40480</td>\n",
              "      <td>36</td>\n",
              "      <td>13.44</td>\n",
              "      <td>3</td>\n",
              "      <td>1</td>\n",
              "      <td>0</td>\n",
              "      <td>1</td>\n",
              "      <td>2021</td>\n",
              "    </tr>\n",
              "    <tr>\n",
              "      <th>100730</th>\n",
              "      <td>ID_BGHGKDJ0M9</td>\n",
              "      <td>64426</td>\n",
              "      <td>16</td>\n",
              "      <td>4</td>\n",
              "      <td>2021-04-06 23:09:24</td>\n",
              "      <td>132526</td>\n",
              "      <td>0</td>\n",
              "      <td>2</td>\n",
              "      <td>108997</td>\n",
              "      <td>1</td>\n",
              "      <td>1</td>\n",
              "      <td>390</td>\n",
              "      <td>-42.932170</td>\n",
              "      <td>-17.184131</td>\n",
              "      <td>-42.926167</td>\n",
              "      <td>-17.194434</td>\n",
              "      <td>-42.932663</td>\n",
              "      <td>-17.199223</td>\n",
              "      <td>2</td>\n",
              "      <td>108997</td>\n",
              "      <td>17</td>\n",
              "      <td>10.00</td>\n",
              "      <td>1</td>\n",
              "      <td>1</td>\n",
              "      <td>0</td>\n",
              "      <td>1</td>\n",
              "      <td>2021</td>\n",
              "    </tr>\n",
              "    <tr>\n",
              "      <th>109821</th>\n",
              "      <td>ID_LOH1A27OSM</td>\n",
              "      <td>64427</td>\n",
              "      <td>16</td>\n",
              "      <td>4</td>\n",
              "      <td>2021-04-06 23:09:59</td>\n",
              "      <td>132526</td>\n",
              "      <td>0</td>\n",
              "      <td>2</td>\n",
              "      <td>108997</td>\n",
              "      <td>1</td>\n",
              "      <td>1</td>\n",
              "      <td>200</td>\n",
              "      <td>-42.932172</td>\n",
              "      <td>-17.184132</td>\n",
              "      <td>-42.926167</td>\n",
              "      <td>-17.194434</td>\n",
              "      <td>-42.928997</td>\n",
              "      <td>-17.195808</td>\n",
              "      <td>2</td>\n",
              "      <td>108997</td>\n",
              "      <td>17</td>\n",
              "      <td>10.00</td>\n",
              "      <td>1</td>\n",
              "      <td>1</td>\n",
              "      <td>0</td>\n",
              "      <td>1</td>\n",
              "      <td>2021</td>\n",
              "    </tr>\n",
              "  </tbody>\n",
              "</table>\n",
              "<p>5636 rows × 27 columns</p>\n",
              "</div>"
            ],
            "text/plain": [
              "                   id  order_id  ...  vendor_type_Bike  year\n",
              "112539  ID_LDIQQ9E679       100  ...                 1  2021\n",
              "69448   ID_MN6TFA2MGQ       101  ...                 1  2021\n",
              "157623  ID_BM5TICOLTU       102  ...                 1  2021\n",
              "5425    ID_AV19QL6V97       103  ...                 1  2021\n",
              "178714  ID_FUOHG41I9Q       105  ...                 1  2021\n",
              "...               ...       ...  ...               ...   ...\n",
              "36778   ID_VMO3EP1L4U     64424  ...                 1  2021\n",
              "77837   ID_3UC69MNNOT     64425  ...                 1  2021\n",
              "58799   ID_QVRILTPY6S     64425  ...                 1  2021\n",
              "100730  ID_BGHGKDJ0M9     64426  ...                 1  2021\n",
              "109821  ID_LOH1A27OSM     64427  ...                 1  2021\n",
              "\n",
              "[5636 rows x 27 columns]"
            ]
          },
          "metadata": {
            "tags": []
          },
          "execution_count": 687
        }
      ]
    },
    {
      "cell_type": "code",
      "metadata": {
        "id": "1SSviXU9AC20",
        "colab": {
          "base_uri": "https://localhost:8080/"
        },
        "outputId": "54466917-ff0a-4d1d-c45c-924bedad9265"
      },
      "source": [
        "train['dispatch_day'].describe()"
      ],
      "execution_count": 688,
      "outputs": [
        {
          "output_type": "execute_result",
          "data": {
            "text/plain": [
              "count    179867.000000\n",
              "mean         16.604903\n",
              "std           8.528368\n",
              "min           1.000000\n",
              "25%           9.000000\n",
              "50%          17.000000\n",
              "75%          24.000000\n",
              "max          31.000000\n",
              "Name: dispatch_day, dtype: float64"
            ]
          },
          "metadata": {
            "tags": []
          },
          "execution_count": 688
        }
      ]
    },
    {
      "cell_type": "code",
      "metadata": {
        "id": "SZOO-0ut8Gy9",
        "colab": {
          "base_uri": "https://localhost:8080/"
        },
        "outputId": "5f322a1a-f969-4486-eca3-e0072e3e2bcc"
      },
      "source": [
        "train['dispatch_time'].describe()"
      ],
      "execution_count": 689,
      "outputs": [
        {
          "output_type": "execute_result",
          "data": {
            "text/plain": [
              "count                  179867\n",
              "unique                   5636\n",
              "top       2021-04-06 15:12:12\n",
              "freq                       95\n",
              "first     2021-04-06 00:01:04\n",
              "last      2021-04-06 23:09:59\n",
              "Name: dispatch_time, dtype: object"
            ]
          },
          "metadata": {
            "tags": []
          },
          "execution_count": 689
        }
      ]
    },
    {
      "cell_type": "markdown",
      "metadata": {
        "id": "SiZR9Zu6I5xo"
      },
      "source": [
        "## Distribution of the target variable"
      ]
    },
    {
      "cell_type": "code",
      "metadata": {
        "id": "J5xyqTXqHCYo",
        "colab": {
          "base_uri": "https://localhost:8080/",
          "height": 404
        },
        "outputId": "1dc2c11e-1428-4b17-9a73-d581fbc242ce"
      },
      "source": [
        "import seaborn as sns\n",
        "plt.figure(figsize=(7, 6))\n",
        "sns.countplot(train.target)\n",
        "plt.title('Target Variable Distribution');"
      ],
      "execution_count": 690,
      "outputs": [
        {
          "output_type": "display_data",
          "data": {
            "image/png": "[encoded data removed]",
            "text/plain": [
              "<Figure size 504x432 with 1 Axes>"
            ]
          },
          "metadata": {
            "tags": [],
            "needs_background": "light"
          }
        }
      ]
    },
    {
      "cell_type": "code",
      "metadata": {
        "colab": {
          "base_uri": "https://localhost:8080/",
          "height": 301
        },
        "id": "Hxn_E6a0Lzk4",
        "outputId": "b613f993-5aae-41f7-a095-b5f03b333a51"
      },
      "source": [
        "train.head()"
      ],
      "execution_count": 691,
      "outputs": [
        {
          "output_type": "execute_result",
          "data": {
            "text/html": [
              "<div>\n",
              "<style scoped>\n",
              "    .dataframe tbody tr th:only-of-type {\n",
              "        vertical-align: middle;\n",
              "    }\n",
              "\n",
              "    .dataframe tbody tr th {\n",
              "        vertical-align: top;\n",
              "    }\n",
              "\n",
              "    .dataframe thead th {\n",
              "        text-align: right;\n",
              "    }\n",
              "</style>\n",
              "<table border=\"1\" class=\"dataframe\">\n",
              "  <thead>\n",
              "    <tr style=\"text-align: right;\">\n",
              "      <th></th>\n",
              "      <th>id</th>\n",
              "      <th>order_id</th>\n",
              "      <th>dispatch_day</th>\n",
              "      <th>dispatch_day_of_week</th>\n",
              "      <th>dispatch_time</th>\n",
              "      <th>client_id</th>\n",
              "      <th>order_license_status</th>\n",
              "      <th>order_carrier_type</th>\n",
              "      <th>rider_id</th>\n",
              "      <th>rider_license_status</th>\n",
              "      <th>rider_carrier_type</th>\n",
              "      <th>rider_amount</th>\n",
              "      <th>rider_lat</th>\n",
              "      <th>rider_long</th>\n",
              "      <th>pickup_lat</th>\n",
              "      <th>pickup_long</th>\n",
              "      <th>drop_off_lat</th>\n",
              "      <th>drop_off_long</th>\n",
              "      <th>target</th>\n",
              "      <th>rider_id</th>\n",
              "      <th>active_rider_age</th>\n",
              "      <th>average_partner_rating</th>\n",
              "      <th>number_of_ratings</th>\n",
              "      <th>client_type_Business</th>\n",
              "      <th>client_type_Personal</th>\n",
              "      <th>vendor_type_Bike</th>\n",
              "      <th>year</th>\n",
              "    </tr>\n",
              "  </thead>\n",
              "  <tbody>\n",
              "    <tr>\n",
              "      <th>0</th>\n",
              "      <td>ID_SCUW21PVAU</td>\n",
              "      <td>4435</td>\n",
              "      <td>27</td>\n",
              "      <td>6</td>\n",
              "      <td>2021-04-06 09:02:54</td>\n",
              "      <td>593630</td>\n",
              "      <td>0</td>\n",
              "      <td>2</td>\n",
              "      <td>30153</td>\n",
              "      <td>0</td>\n",
              "      <td>1</td>\n",
              "      <td>1080</td>\n",
              "      <td>-42.698343</td>\n",
              "      <td>-17.228539</td>\n",
              "      <td>-42.692371</td>\n",
              "      <td>-17.248305</td>\n",
              "      <td>-42.687442</td>\n",
              "      <td>-17.424682</td>\n",
              "      <td>1</td>\n",
              "      <td>30153</td>\n",
              "      <td>11</td>\n",
              "      <td>10.00</td>\n",
              "      <td>1</td>\n",
              "      <td>1</td>\n",
              "      <td>0</td>\n",
              "      <td>1</td>\n",
              "      <td>2021</td>\n",
              "    </tr>\n",
              "    <tr>\n",
              "      <th>1</th>\n",
              "      <td>ID_2HA7X30JMN</td>\n",
              "      <td>32711</td>\n",
              "      <td>30</td>\n",
              "      <td>7</td>\n",
              "      <td>2021-04-06 13:01:37</td>\n",
              "      <td>837729</td>\n",
              "      <td>0</td>\n",
              "      <td>1</td>\n",
              "      <td>20884</td>\n",
              "      <td>0</td>\n",
              "      <td>1</td>\n",
              "      <td>730</td>\n",
              "      <td>-42.787317</td>\n",
              "      <td>-17.288252</td>\n",
              "      <td>-42.784046</td>\n",
              "      <td>-17.290121</td>\n",
              "      <td>-42.673267</td>\n",
              "      <td>-17.234595</td>\n",
              "      <td>2</td>\n",
              "      <td>20884</td>\n",
              "      <td>68</td>\n",
              "      <td>24.13</td>\n",
              "      <td>229</td>\n",
              "      <td>0</td>\n",
              "      <td>1</td>\n",
              "      <td>1</td>\n",
              "      <td>2021</td>\n",
              "    </tr>\n",
              "    <tr>\n",
              "      <th>2</th>\n",
              "      <td>ID_IAJWDTBY6M</td>\n",
              "      <td>8712</td>\n",
              "      <td>14</td>\n",
              "      <td>2</td>\n",
              "      <td>2021-04-06 10:01:00</td>\n",
              "      <td>695129</td>\n",
              "      <td>0</td>\n",
              "      <td>2</td>\n",
              "      <td>33143</td>\n",
              "      <td>1</td>\n",
              "      <td>1</td>\n",
              "      <td>490</td>\n",
              "      <td>-42.749180</td>\n",
              "      <td>-17.287848</td>\n",
              "      <td>-42.765204</td>\n",
              "      <td>-17.293784</td>\n",
              "      <td>-42.813953</td>\n",
              "      <td>-17.294805</td>\n",
              "      <td>1</td>\n",
              "      <td>33143</td>\n",
              "      <td>273</td>\n",
              "      <td>24.92</td>\n",
              "      <td>123</td>\n",
              "      <td>0</td>\n",
              "      <td>1</td>\n",
              "      <td>1</td>\n",
              "      <td>2021</td>\n",
              "    </tr>\n",
              "    <tr>\n",
              "      <th>3</th>\n",
              "      <td>ID_LKSVPNYMTR</td>\n",
              "      <td>44869</td>\n",
              "      <td>22</td>\n",
              "      <td>3</td>\n",
              "      <td>2021-04-06 14:11:16</td>\n",
              "      <td>1504660</td>\n",
              "      <td>0</td>\n",
              "      <td>2</td>\n",
              "      <td>96531</td>\n",
              "      <td>1</td>\n",
              "      <td>1</td>\n",
              "      <td>510</td>\n",
              "      <td>-42.836266</td>\n",
              "      <td>-17.311920</td>\n",
              "      <td>-42.831913</td>\n",
              "      <td>-17.315311</td>\n",
              "      <td>-42.812409</td>\n",
              "      <td>-17.265441</td>\n",
              "      <td>2</td>\n",
              "      <td>96531</td>\n",
              "      <td>168</td>\n",
              "      <td>23.76</td>\n",
              "      <td>175</td>\n",
              "      <td>0</td>\n",
              "      <td>1</td>\n",
              "      <td>1</td>\n",
              "      <td>2021</td>\n",
              "    </tr>\n",
              "    <tr>\n",
              "      <th>4</th>\n",
              "      <td>ID_O7N8Y918YH</td>\n",
              "      <td>57590</td>\n",
              "      <td>27</td>\n",
              "      <td>5</td>\n",
              "      <td>2021-04-06 16:11:38</td>\n",
              "      <td>36869</td>\n",
              "      <td>0</td>\n",
              "      <td>2</td>\n",
              "      <td>103546</td>\n",
              "      <td>0</td>\n",
              "      <td>0</td>\n",
              "      <td>400</td>\n",
              "      <td>-42.828195</td>\n",
              "      <td>-17.322818</td>\n",
              "      <td>-42.836056</td>\n",
              "      <td>-17.318111</td>\n",
              "      <td>-42.828517</td>\n",
              "      <td>-17.302052</td>\n",
              "      <td>0</td>\n",
              "      <td>103546</td>\n",
              "      <td>95</td>\n",
              "      <td>24.53</td>\n",
              "      <td>42</td>\n",
              "      <td>1</td>\n",
              "      <td>0</td>\n",
              "      <td>1</td>\n",
              "      <td>2021</td>\n",
              "    </tr>\n",
              "  </tbody>\n",
              "</table>\n",
              "</div>"
            ],
            "text/plain": [
              "              id  order_id  ...  vendor_type_Bike  year\n",
              "0  ID_SCUW21PVAU      4435  ...                 1  2021\n",
              "1  ID_2HA7X30JMN     32711  ...                 1  2021\n",
              "2  ID_IAJWDTBY6M      8712  ...                 1  2021\n",
              "3  ID_LKSVPNYMTR     44869  ...                 1  2021\n",
              "4  ID_O7N8Y918YH     57590  ...                 1  2021\n",
              "\n",
              "[5 rows x 27 columns]"
            ]
          },
          "metadata": {
            "tags": []
          },
          "execution_count": 691
        }
      ]
    },
    {
      "cell_type": "code",
      "metadata": {
        "id": "XlAj8Ou6KiC-"
      },
      "source": [
        "train[['dispatch_day', 'dispatch_day_of_week', 'order_license_status',\n",
        "       'order_carrier_type', 'rider_license_status', 'rider_carrier_type',\n",
        "       'rider_amount', 'rider_lat', 'rider_long', 'pickup_lat', 'pickup_long',\n",
        "       'drop_off_lat', 'drop_off_long', 'active_rider_age',\n",
        "       'average_partner_rating']] = train[['dispatch_day', 'dispatch_day_of_week', 'order_license_status',\n",
        "       'order_carrier_type', 'rider_license_status', 'rider_carrier_type',\n",
        "       'rider_amount', 'rider_lat', 'rider_long', 'pickup_lat', 'pickup_long',\n",
        "       'drop_off_lat', 'drop_off_long', 'active_rider_age',\n",
        "       'average_partner_rating']].apply(pd.to_numeric)"
      ],
      "execution_count": 692,
      "outputs": []
    },
    {
      "cell_type": "code",
      "metadata": {
        "id": "e6MK5f6lylmU"
      },
      "source": [
        "# Split data\n",
        "#main_cols = test.columns.difference(['id', 'order_id', 'rider_id', 'Rider ID', 'target', 'dispatch_time',\t'client_id']).tolist()\n",
        "X = train.drop(['client_type_Personal','client_type_Business','active_rider_age','id', 'order_id', 'rider_id', 'target', 'dispatch_time',\t'client_id','vendor_type_Bike','year'],axis=1)\n",
        "y = train['target']\n",
        "X_train, X_test, y_train, y_test = train_test_split(X, y, test_size = 0.2, random_state = 3031)\n"
      ],
      "execution_count": 693,
      "outputs": []
    },
    {
      "cell_type": "code",
      "metadata": {
        "colab": {
          "base_uri": "https://localhost:8080/"
        },
        "id": "IKTRmlDsGzDk",
        "outputId": "da8244b0-303a-42bb-bd2e-af5e664b0f06"
      },
      "source": [
        "X_train.dtypes"
      ],
      "execution_count": 694,
      "outputs": [
        {
          "output_type": "execute_result",
          "data": {
            "text/plain": [
              "dispatch_day                int64\n",
              "dispatch_day_of_week        int64\n",
              "order_license_status        int64\n",
              "order_carrier_type          int64\n",
              "rider_license_status        int64\n",
              "rider_carrier_type          int64\n",
              "rider_amount                int64\n",
              "rider_lat                 float64\n",
              "rider_long                float64\n",
              "pickup_lat                float64\n",
              "pickup_long               float64\n",
              "drop_off_lat              float64\n",
              "drop_off_long             float64\n",
              "average_partner_rating    float64\n",
              "number_of_ratings           int64\n",
              "dtype: object"
            ]
          },
          "metadata": {
            "tags": []
          },
          "execution_count": 694
        }
      ]
    },
    {
      "cell_type": "code",
      "metadata": {
        "id": "6odSlKUfGgCU",
        "colab": {
          "base_uri": "https://localhost:8080/"
        },
        "outputId": "702ba520-03ec-430c-b93c-627c8359ba88"
      },
      "source": [
        "# Train a model\n",
        "model = LGBMClassifier(random_state=3031)\n",
        "model.fit(X_train, y_train)\n",
        "\n",
        "# Make predictions\n",
        "y_pred = model.predict(X_test)\n",
        "\n",
        "# Check score\n",
        "accuracy_score(y_test, y_pred)"
      ],
      "execution_count": 695,
      "outputs": [
        {
          "output_type": "execute_result",
          "data": {
            "text/plain": [
              "0.6095791404903541"
            ]
          },
          "metadata": {
            "tags": []
          },
          "execution_count": 695
        }
      ]
    },
    {
      "cell_type": "code",
      "metadata": {
        "colab": {
          "base_uri": "https://localhost:8080/"
        },
        "id": "NZULf7AZVIp1",
        "outputId": "1162b065-d580-455f-82ba-e13db30a8a75"
      },
      "source": [
        "test.columns"
      ],
      "execution_count": 696,
      "outputs": [
        {
          "output_type": "execute_result",
          "data": {
            "text/plain": [
              "Index(['id', 'order_id', 'dispatch_day', 'dispatch_day_of_week',\n",
              "       'dispatch_time', 'client_id', 'order_license_status',\n",
              "       'order_carrier_type', 'rider_id', 'rider_license_status',\n",
              "       'rider_carrier_type', 'rider_amount', 'rider_lat', 'rider_long',\n",
              "       'pickup_lat', 'pickup_long', 'drop_off_lat', 'drop_off_long',\n",
              "       'rider_id', 'active_rider_age', 'average_partner_rating',\n",
              "       'number_of_ratings', 'client_type_Business', 'client_type_Personal',\n",
              "       'vendor_type_Bike', 'year'],\n",
              "      dtype='object')"
            ]
          },
          "metadata": {
            "tags": []
          },
          "execution_count": 696
        }
      ]
    },
    {
      "cell_type": "code",
      "metadata": {
        "colab": {
          "base_uri": "https://localhost:8080/",
          "height": 426
        },
        "id": "mqGMVR-YWcrO",
        "outputId": "bd59c09d-5ec0-4c2e-c0e0-5c059a2f7168"
      },
      "source": [
        "X"
      ],
      "execution_count": 697,
      "outputs": [
        {
          "output_type": "execute_result",
          "data": {
            "text/html": [
              "<div>\n",
              "<style scoped>\n",
              "    .dataframe tbody tr th:only-of-type {\n",
              "        vertical-align: middle;\n",
              "    }\n",
              "\n",
              "    .dataframe tbody tr th {\n",
              "        vertical-align: top;\n",
              "    }\n",
              "\n",
              "    .dataframe thead th {\n",
              "        text-align: right;\n",
              "    }\n",
              "</style>\n",
              "<table border=\"1\" class=\"dataframe\">\n",
              "  <thead>\n",
              "    <tr style=\"text-align: right;\">\n",
              "      <th></th>\n",
              "      <th>dispatch_day</th>\n",
              "      <th>dispatch_day_of_week</th>\n",
              "      <th>order_license_status</th>\n",
              "      <th>order_carrier_type</th>\n",
              "      <th>rider_license_status</th>\n",
              "      <th>rider_carrier_type</th>\n",
              "      <th>rider_amount</th>\n",
              "      <th>rider_lat</th>\n",
              "      <th>rider_long</th>\n",
              "      <th>pickup_lat</th>\n",
              "      <th>pickup_long</th>\n",
              "      <th>drop_off_lat</th>\n",
              "      <th>drop_off_long</th>\n",
              "      <th>average_partner_rating</th>\n",
              "      <th>number_of_ratings</th>\n",
              "    </tr>\n",
              "  </thead>\n",
              "  <tbody>\n",
              "    <tr>\n",
              "      <th>0</th>\n",
              "      <td>27</td>\n",
              "      <td>6</td>\n",
              "      <td>0</td>\n",
              "      <td>2</td>\n",
              "      <td>0</td>\n",
              "      <td>1</td>\n",
              "      <td>1080</td>\n",
              "      <td>-42.698343</td>\n",
              "      <td>-17.228539</td>\n",
              "      <td>-42.692371</td>\n",
              "      <td>-17.248305</td>\n",
              "      <td>-42.687442</td>\n",
              "      <td>-17.424682</td>\n",
              "      <td>10.00</td>\n",
              "      <td>1</td>\n",
              "    </tr>\n",
              "    <tr>\n",
              "      <th>1</th>\n",
              "      <td>30</td>\n",
              "      <td>7</td>\n",
              "      <td>0</td>\n",
              "      <td>1</td>\n",
              "      <td>0</td>\n",
              "      <td>1</td>\n",
              "      <td>730</td>\n",
              "      <td>-42.787317</td>\n",
              "      <td>-17.288252</td>\n",
              "      <td>-42.784046</td>\n",
              "      <td>-17.290121</td>\n",
              "      <td>-42.673267</td>\n",
              "      <td>-17.234595</td>\n",
              "      <td>24.13</td>\n",
              "      <td>229</td>\n",
              "    </tr>\n",
              "    <tr>\n",
              "      <th>2</th>\n",
              "      <td>14</td>\n",
              "      <td>2</td>\n",
              "      <td>0</td>\n",
              "      <td>2</td>\n",
              "      <td>1</td>\n",
              "      <td>1</td>\n",
              "      <td>490</td>\n",
              "      <td>-42.749180</td>\n",
              "      <td>-17.287848</td>\n",
              "      <td>-42.765204</td>\n",
              "      <td>-17.293784</td>\n",
              "      <td>-42.813953</td>\n",
              "      <td>-17.294805</td>\n",
              "      <td>24.92</td>\n",
              "      <td>123</td>\n",
              "    </tr>\n",
              "    <tr>\n",
              "      <th>3</th>\n",
              "      <td>22</td>\n",
              "      <td>3</td>\n",
              "      <td>0</td>\n",
              "      <td>2</td>\n",
              "      <td>1</td>\n",
              "      <td>1</td>\n",
              "      <td>510</td>\n",
              "      <td>-42.836266</td>\n",
              "      <td>-17.311920</td>\n",
              "      <td>-42.831913</td>\n",
              "      <td>-17.315311</td>\n",
              "      <td>-42.812409</td>\n",
              "      <td>-17.265441</td>\n",
              "      <td>23.76</td>\n",
              "      <td>175</td>\n",
              "    </tr>\n",
              "    <tr>\n",
              "      <th>4</th>\n",
              "      <td>27</td>\n",
              "      <td>5</td>\n",
              "      <td>0</td>\n",
              "      <td>2</td>\n",
              "      <td>0</td>\n",
              "      <td>0</td>\n",
              "      <td>400</td>\n",
              "      <td>-42.828195</td>\n",
              "      <td>-17.322818</td>\n",
              "      <td>-42.836056</td>\n",
              "      <td>-17.318111</td>\n",
              "      <td>-42.828517</td>\n",
              "      <td>-17.302052</td>\n",
              "      <td>24.53</td>\n",
              "      <td>42</td>\n",
              "    </tr>\n",
              "    <tr>\n",
              "      <th>...</th>\n",
              "      <td>...</td>\n",
              "      <td>...</td>\n",
              "      <td>...</td>\n",
              "      <td>...</td>\n",
              "      <td>...</td>\n",
              "      <td>...</td>\n",
              "      <td>...</td>\n",
              "      <td>...</td>\n",
              "      <td>...</td>\n",
              "      <td>...</td>\n",
              "      <td>...</td>\n",
              "      <td>...</td>\n",
              "      <td>...</td>\n",
              "      <td>...</td>\n",
              "      <td>...</td>\n",
              "    </tr>\n",
              "    <tr>\n",
              "      <th>179862</th>\n",
              "      <td>9</td>\n",
              "      <td>4</td>\n",
              "      <td>0</td>\n",
              "      <td>2</td>\n",
              "      <td>0</td>\n",
              "      <td>1</td>\n",
              "      <td>530</td>\n",
              "      <td>-42.799022</td>\n",
              "      <td>-17.263385</td>\n",
              "      <td>-42.797847</td>\n",
              "      <td>-17.257129</td>\n",
              "      <td>-42.821718</td>\n",
              "      <td>-17.302860</td>\n",
              "      <td>10.24</td>\n",
              "      <td>20</td>\n",
              "    </tr>\n",
              "    <tr>\n",
              "      <th>179863</th>\n",
              "      <td>15</td>\n",
              "      <td>2</td>\n",
              "      <td>0</td>\n",
              "      <td>1</td>\n",
              "      <td>1</td>\n",
              "      <td>1</td>\n",
              "      <td>430</td>\n",
              "      <td>-42.824439</td>\n",
              "      <td>-17.273777</td>\n",
              "      <td>-42.821400</td>\n",
              "      <td>-17.272752</td>\n",
              "      <td>-42.786174</td>\n",
              "      <td>-17.281706</td>\n",
              "      <td>10.00</td>\n",
              "      <td>1</td>\n",
              "    </tr>\n",
              "    <tr>\n",
              "      <th>179864</th>\n",
              "      <td>13</td>\n",
              "      <td>7</td>\n",
              "      <td>1</td>\n",
              "      <td>2</td>\n",
              "      <td>1</td>\n",
              "      <td>1</td>\n",
              "      <td>490</td>\n",
              "      <td>-42.840226</td>\n",
              "      <td>-17.265304</td>\n",
              "      <td>-42.824923</td>\n",
              "      <td>-17.280676</td>\n",
              "      <td>-42.778648</td>\n",
              "      <td>-17.298742</td>\n",
              "      <td>24.91</td>\n",
              "      <td>116</td>\n",
              "    </tr>\n",
              "    <tr>\n",
              "      <th>179865</th>\n",
              "      <td>13</td>\n",
              "      <td>2</td>\n",
              "      <td>0</td>\n",
              "      <td>2</td>\n",
              "      <td>1</td>\n",
              "      <td>1</td>\n",
              "      <td>500</td>\n",
              "      <td>-42.817205</td>\n",
              "      <td>-17.338171</td>\n",
              "      <td>-42.836143</td>\n",
              "      <td>-17.317200</td>\n",
              "      <td>-42.790718</td>\n",
              "      <td>-17.258187</td>\n",
              "      <td>10.00</td>\n",
              "      <td>4</td>\n",
              "    </tr>\n",
              "    <tr>\n",
              "      <th>179866</th>\n",
              "      <td>13</td>\n",
              "      <td>6</td>\n",
              "      <td>0</td>\n",
              "      <td>0</td>\n",
              "      <td>1</td>\n",
              "      <td>0</td>\n",
              "      <td>510</td>\n",
              "      <td>-42.813899</td>\n",
              "      <td>-17.262736</td>\n",
              "      <td>-42.818745</td>\n",
              "      <td>-17.264852</td>\n",
              "      <td>-42.883180</td>\n",
              "      <td>-17.240410</td>\n",
              "      <td>24.92</td>\n",
              "      <td>123</td>\n",
              "    </tr>\n",
              "  </tbody>\n",
              "</table>\n",
              "<p>179867 rows × 15 columns</p>\n",
              "</div>"
            ],
            "text/plain": [
              "        dispatch_day  ...  number_of_ratings\n",
              "0                 27  ...                  1\n",
              "1                 30  ...                229\n",
              "2                 14  ...                123\n",
              "3                 22  ...                175\n",
              "4                 27  ...                 42\n",
              "...              ...  ...                ...\n",
              "179862             9  ...                 20\n",
              "179863            15  ...                  1\n",
              "179864            13  ...                116\n",
              "179865            13  ...                  4\n",
              "179866            13  ...                123\n",
              "\n",
              "[179867 rows x 15 columns]"
            ]
          },
          "metadata": {
            "tags": []
          },
          "execution_count": 697
        }
      ]
    },
    {
      "cell_type": "code",
      "metadata": {
        "colab": {
          "base_uri": "https://localhost:8080/"
        },
        "id": "6NrZsufvXiRX",
        "outputId": "a081086b-9ce8-4e9e-f6d8-df721f81ea79"
      },
      "source": [
        "X.shape"
      ],
      "execution_count": 698,
      "outputs": [
        {
          "output_type": "execute_result",
          "data": {
            "text/plain": [
              "(179867, 15)"
            ]
          },
          "metadata": {
            "tags": []
          },
          "execution_count": 698
        }
      ]
    },
    {
      "cell_type": "code",
      "metadata": {
        "colab": {
          "base_uri": "https://localhost:8080/",
          "height": 301
        },
        "id": "2pxszaabW40U",
        "outputId": "c69c0f82-6e71-4028-9567-0f8d69be55dd"
      },
      "source": [
        "test.head()"
      ],
      "execution_count": 699,
      "outputs": [
        {
          "output_type": "execute_result",
          "data": {
            "text/html": [
              "<div>\n",
              "<style scoped>\n",
              "    .dataframe tbody tr th:only-of-type {\n",
              "        vertical-align: middle;\n",
              "    }\n",
              "\n",
              "    .dataframe tbody tr th {\n",
              "        vertical-align: top;\n",
              "    }\n",
              "\n",
              "    .dataframe thead th {\n",
              "        text-align: right;\n",
              "    }\n",
              "</style>\n",
              "<table border=\"1\" class=\"dataframe\">\n",
              "  <thead>\n",
              "    <tr style=\"text-align: right;\">\n",
              "      <th></th>\n",
              "      <th>id</th>\n",
              "      <th>order_id</th>\n",
              "      <th>dispatch_day</th>\n",
              "      <th>dispatch_day_of_week</th>\n",
              "      <th>dispatch_time</th>\n",
              "      <th>client_id</th>\n",
              "      <th>order_license_status</th>\n",
              "      <th>order_carrier_type</th>\n",
              "      <th>rider_id</th>\n",
              "      <th>rider_license_status</th>\n",
              "      <th>rider_carrier_type</th>\n",
              "      <th>rider_amount</th>\n",
              "      <th>rider_lat</th>\n",
              "      <th>rider_long</th>\n",
              "      <th>pickup_lat</th>\n",
              "      <th>pickup_long</th>\n",
              "      <th>drop_off_lat</th>\n",
              "      <th>drop_off_long</th>\n",
              "      <th>rider_id</th>\n",
              "      <th>active_rider_age</th>\n",
              "      <th>average_partner_rating</th>\n",
              "      <th>number_of_ratings</th>\n",
              "      <th>client_type_Business</th>\n",
              "      <th>client_type_Personal</th>\n",
              "      <th>vendor_type_Bike</th>\n",
              "      <th>year</th>\n",
              "    </tr>\n",
              "  </thead>\n",
              "  <tbody>\n",
              "    <tr>\n",
              "      <th>0</th>\n",
              "      <td>ID_3B4D2Q2DSI</td>\n",
              "      <td>28636</td>\n",
              "      <td>2</td>\n",
              "      <td>6</td>\n",
              "      <td>2021-04-06 12:10:59</td>\n",
              "      <td>593630</td>\n",
              "      <td>0</td>\n",
              "      <td>2</td>\n",
              "      <td>57224</td>\n",
              "      <td>1</td>\n",
              "      <td>1</td>\n",
              "      <td>450</td>\n",
              "      <td>-42.912776</td>\n",
              "      <td>-17.265738</td>\n",
              "      <td>-42.881861</td>\n",
              "      <td>-17.280865</td>\n",
              "      <td>-42.880476</td>\n",
              "      <td>-17.230240</td>\n",
              "      <td>57224</td>\n",
              "      <td>175</td>\n",
              "      <td>23.04</td>\n",
              "      <td>15</td>\n",
              "      <td>1</td>\n",
              "      <td>0</td>\n",
              "      <td>1</td>\n",
              "      <td>2021</td>\n",
              "    </tr>\n",
              "    <tr>\n",
              "      <th>1</th>\n",
              "      <td>ID_7MPWFJ9XFI</td>\n",
              "      <td>60465</td>\n",
              "      <td>11</td>\n",
              "      <td>4</td>\n",
              "      <td>2021-04-06 17:10:03</td>\n",
              "      <td>2378775</td>\n",
              "      <td>1</td>\n",
              "      <td>2</td>\n",
              "      <td>106329</td>\n",
              "      <td>1</td>\n",
              "      <td>1</td>\n",
              "      <td>560</td>\n",
              "      <td>-42.831932</td>\n",
              "      <td>-17.284140</td>\n",
              "      <td>-42.829545</td>\n",
              "      <td>-17.279453</td>\n",
              "      <td>-42.851920</td>\n",
              "      <td>-17.314558</td>\n",
              "      <td>106329</td>\n",
              "      <td>8</td>\n",
              "      <td>19.34</td>\n",
              "      <td>332</td>\n",
              "      <td>0</td>\n",
              "      <td>1</td>\n",
              "      <td>1</td>\n",
              "      <td>2021</td>\n",
              "    </tr>\n",
              "    <tr>\n",
              "      <th>2</th>\n",
              "      <td>ID_5VVT3Q3M5B</td>\n",
              "      <td>25249</td>\n",
              "      <td>30</td>\n",
              "      <td>3</td>\n",
              "      <td>2021-04-06 12:02:01</td>\n",
              "      <td>2121681</td>\n",
              "      <td>0</td>\n",
              "      <td>2</td>\n",
              "      <td>90551</td>\n",
              "      <td>0</td>\n",
              "      <td>0</td>\n",
              "      <td>450</td>\n",
              "      <td>-42.806437</td>\n",
              "      <td>-17.285166</td>\n",
              "      <td>-42.810915</td>\n",
              "      <td>-17.291086</td>\n",
              "      <td>-42.807165</td>\n",
              "      <td>-17.253860</td>\n",
              "      <td>90551</td>\n",
              "      <td>105</td>\n",
              "      <td>10.00</td>\n",
              "      <td>3</td>\n",
              "      <td>0</td>\n",
              "      <td>1</td>\n",
              "      <td>1</td>\n",
              "      <td>2021</td>\n",
              "    </tr>\n",
              "    <tr>\n",
              "      <th>3</th>\n",
              "      <td>ID_C2GTVS1H7K</td>\n",
              "      <td>21224</td>\n",
              "      <td>27</td>\n",
              "      <td>2</td>\n",
              "      <td>2021-04-06 11:10:32</td>\n",
              "      <td>38801</td>\n",
              "      <td>0</td>\n",
              "      <td>2</td>\n",
              "      <td>90482</td>\n",
              "      <td>1</td>\n",
              "      <td>1</td>\n",
              "      <td>440</td>\n",
              "      <td>-42.828448</td>\n",
              "      <td>-17.301909</td>\n",
              "      <td>-42.828517</td>\n",
              "      <td>-17.302052</td>\n",
              "      <td>-42.795516</td>\n",
              "      <td>-17.287921</td>\n",
              "      <td>90482</td>\n",
              "      <td>38</td>\n",
              "      <td>24.76</td>\n",
              "      <td>83</td>\n",
              "      <td>1</td>\n",
              "      <td>0</td>\n",
              "      <td>1</td>\n",
              "      <td>2021</td>\n",
              "    </tr>\n",
              "    <tr>\n",
              "      <th>4</th>\n",
              "      <td>ID_0YGC8V3PFT</td>\n",
              "      <td>58287</td>\n",
              "      <td>14</td>\n",
              "      <td>6</td>\n",
              "      <td>2021-04-06 16:12:55</td>\n",
              "      <td>153111</td>\n",
              "      <td>0</td>\n",
              "      <td>2</td>\n",
              "      <td>101959</td>\n",
              "      <td>1</td>\n",
              "      <td>1</td>\n",
              "      <td>500</td>\n",
              "      <td>-42.808912</td>\n",
              "      <td>-17.259955</td>\n",
              "      <td>-42.805154</td>\n",
              "      <td>-17.262939</td>\n",
              "      <td>-42.706475</td>\n",
              "      <td>-17.257454</td>\n",
              "      <td>101959</td>\n",
              "      <td>167</td>\n",
              "      <td>9.15</td>\n",
              "      <td>16</td>\n",
              "      <td>1</td>\n",
              "      <td>0</td>\n",
              "      <td>1</td>\n",
              "      <td>2021</td>\n",
              "    </tr>\n",
              "  </tbody>\n",
              "</table>\n",
              "</div>"
            ],
            "text/plain": [
              "              id  order_id  ...  vendor_type_Bike  year\n",
              "0  ID_3B4D2Q2DSI     28636  ...                 1  2021\n",
              "1  ID_7MPWFJ9XFI     60465  ...                 1  2021\n",
              "2  ID_5VVT3Q3M5B     25249  ...                 1  2021\n",
              "3  ID_C2GTVS1H7K     21224  ...                 1  2021\n",
              "4  ID_0YGC8V3PFT     58287  ...                 1  2021\n",
              "\n",
              "[5 rows x 26 columns]"
            ]
          },
          "metadata": {
            "tags": []
          },
          "execution_count": 699
        }
      ]
    },
    {
      "cell_type": "code",
      "metadata": {
        "colab": {
          "base_uri": "https://localhost:8080/"
        },
        "id": "rvnY1iU_Xr2i",
        "outputId": "dd4a5e0e-5a7b-4e81-8d23-54d88ebe7262"
      },
      "source": [
        "test.shape"
      ],
      "execution_count": 700,
      "outputs": [
        {
          "output_type": "execute_result",
          "data": {
            "text/plain": [
              "(76791, 26)"
            ]
          },
          "metadata": {
            "tags": []
          },
          "execution_count": 700
        }
      ]
    },
    {
      "cell_type": "code",
      "metadata": {
        "colab": {
          "base_uri": "https://localhost:8080/"
        },
        "id": "ZbO0oq_yXQf7",
        "outputId": "fd0e3a24-85b1-4402-d61b-dd9991a43151"
      },
      "source": [
        "test = test.drop(['client_type_Personal','client_type_Business','active_rider_age','id', 'order_id',\n",
        "                  'rider_id', 'rider_id','dispatch_time',\t'client_id','vendor_type_Bike','year'], axis = 1)\n",
        "test.shape"
      ],
      "execution_count": 701,
      "outputs": [
        {
          "output_type": "execute_result",
          "data": {
            "text/plain": [
              "(76791, 15)"
            ]
          },
          "metadata": {
            "tags": []
          },
          "execution_count": 701
        }
      ]
    },
    {
      "cell_type": "code",
      "metadata": {
        "id": "llaGERIUGpua"
      },
      "source": [
        "# Make predictions in test set and prepare submission file\n",
        "predictions = model.predict(test)\n",
        "sub_file = ss.copy()\n",
        "sub_file.target = predictions\n",
        "sub_file.to_csv('Baseline.csv', index = False)"
      ],
      "execution_count": 702,
      "outputs": []
    },
    {
      "cell_type": "markdown",
      "metadata": {
        "id": "y5RGWE7pOWQs"
      },
      "source": [
        "### Export the tested model to a pickle file\n",
        "\n",
        "To open the file for writing, simply use the open() function.\n",
        "\n",
        "● The first argument should be the name of your file. \n",
        "\n",
        "● The second argument is 'wb'. \n",
        "The w means that you'll be writing to the file, and b refers to binary mode. \n",
        "This means that the data will be written in the form of byte objects. If \n",
        "you forget the b, a “TypeError: must be str, not bytes” will be returned. \n",
        "You may sometimes come across a slightly different notation; w+b, but \n",
        "don't worry, it provides the same functionality.\n",
        "\n",
        "Once the file is opened for writing, you can use pickle.dump(), which \n",
        "takes two arguments: the object you want to pickle and the file to which \n",
        "the object has to be saved. In this case, the former will be our model - \n",
        "‘LR_Model’, while the latter will be ‘file’.\n",
        "\n"
      ]
    },
    {
      "cell_type": "code",
      "metadata": {
        "id": "JJRJ2ZQDOPhG"
      },
      "source": [
        "import pickle\n",
        "with open('sendy_model.pickle','wb') as file:\n",
        "    pickle.dump(model,file)"
      ],
      "execution_count": 703,
      "outputs": []
    },
    {
      "cell_type": "code",
      "metadata": {
        "id": "s0GoY-zcRvDf"
      },
      "source": [
        "# pkl_filename = 'sendy_model.pkl'\n",
        "\n",
        "# with open(pkl_filename, 'wb') as file:\n",
        "#   pickle.dump(model, file)"
      ],
      "execution_count": 704,
      "outputs": []
    },
    {
      "cell_type": "markdown",
      "metadata": {
        "id": "_aExSZnpQhDo"
      },
      "source": [
        "### Importing the model back from file (Unpickling)\n",
        "\n",
        "Use the open() function again, but this time with 'rb' as second argument (instead of \n",
        "wb). The r stands for read mode and the b stands for binary mode. You'll be reading \n",
        "a binary file. Assign this to ‘file’. Next, use pickle.load(), with ‘file’ as argument, and \n",
        "assign it to ‘Pickled_LR_Model’."
      ]
    },
    {
      "cell_type": "code",
      "metadata": {
        "id": "DM505jj5OPdx"
      },
      "source": [
        "# with open(pkl_filename, 'rb') as file:\n",
        "#   sendy_model = pickle.load(file)\n",
        "\n",
        "# sendy_model"
      ],
      "execution_count": 705,
      "outputs": []
    },
    {
      "cell_type": "code",
      "metadata": {
        "colab": {
          "base_uri": "https://localhost:8080/"
        },
        "id": "a60psAHKOPbZ",
        "outputId": "3bfe85a5-7e69-48e8-a60b-1d0fe8fff9e2"
      },
      "source": [
        "with open('sendy_model.pickle', 'rb') as file:\n",
        "   sendy_model = pickle.load(file)\n",
        "\n",
        "sendy_model"
      ],
      "execution_count": 706,
      "outputs": [
        {
          "output_type": "execute_result",
          "data": {
            "text/plain": [
              "LGBMClassifier(boosting_type='gbdt', class_weight=None, colsample_bytree=1.0,\n",
              "               importance_type='split', learning_rate=0.1, max_depth=-1,\n",
              "               min_child_samples=20, min_child_weight=0.001, min_split_gain=0.0,\n",
              "               n_estimators=100, n_jobs=-1, num_leaves=31, objective=None,\n",
              "               random_state=3031, reg_alpha=0.0, reg_lambda=0.0, silent=True,\n",
              "               subsample=1.0, subsample_for_bin=200000, subsample_freq=0)"
            ]
          },
          "metadata": {
            "tags": []
          },
          "execution_count": 706
        }
      ]
    },
    {
      "cell_type": "markdown",
      "metadata": {
        "id": "9726dknjTW8x"
      },
      "source": [
        "Use the model to claculate accuracy scores and predict target values."
      ]
    },
    {
      "cell_type": "code",
      "metadata": {
        "colab": {
          "base_uri": "https://localhost:8080/"
        },
        "id": "3nzi8t2YTS8B",
        "outputId": "37d259d9-a0a5-4d97-cbad-d2a96a097831"
      },
      "source": [
        "#Calculating score\n",
        "\n",
        "score = sendy_model.score(X_test,y_test)\n",
        "score"
      ],
      "execution_count": 707,
      "outputs": [
        {
          "output_type": "execute_result",
          "data": {
            "text/plain": [
              "0.6095791404903541"
            ]
          },
          "metadata": {
            "tags": []
          },
          "execution_count": 707
        }
      ]
    },
    {
      "cell_type": "markdown",
      "metadata": {
        "id": "CxlRBfFlUw6p"
      },
      "source": [
        "### Compressing Pickle files.\n",
        "\n",
        "This can be done using bzip2 or gzip. They both compress files, but \n",
        "bzip2 is a bit slower. gzip, however, produces files about twice as large as bzip2. \n",
        "\n",
        "Here, we are taking the example of a model called sendy_model that we wish to compress and store in a file named smallerfile.\n",
        "\n"
      ]
    },
    {
      "cell_type": "code",
      "metadata": {
        "id": "Wji8dUatTS4-"
      },
      "source": [
        "import bz2\n",
        "\n",
        "sfile = bz2.BZ2File('smallerfile','w')\n",
        "pickle.dump(sendy_model, sfile)"
      ],
      "execution_count": 708,
      "outputs": []
    },
    {
      "cell_type": "markdown",
      "metadata": {
        "id": "DXx5VVj2Vs-o"
      },
      "source": [
        "PROs of Pickle :\n",
        "\n",
        "1) Saving and restoring our learning models is quick - we can do it in two lines of \n",
        "code.\n",
        "\n",
        "2) It is useful if you have optimized the model's parameters on the training data, so \n",
        "you don't need to repeat this step again.\n",
        "\n",
        "CONs of Pickle :\n",
        "\n",
        "1) It doesn't save the test results or any data.\n",
        "\n",
        "2) Lambda functions can't be pickled. So if you try to apply it to a lambda function, it will fail. \n",
        "\n",
        "There is a solution for this. dill is a package similar to pickle that can serialize lambda \n",
        "functions, among other things. Its use is almost identical to pickle.\n"
      ]
    },
    {
      "cell_type": "markdown",
      "metadata": {
        "id": "RjhHWfM_Yy-c"
      },
      "source": [
        "### 2. Joblib\n",
        "\n",
        "The Joblib Module is available from Scikit Learn package and is intended to be a replacement for Pickle, for objects containing large data. It provides utilities for saving and loading Python objects that make use of NumPy data structures efficiently.\n",
        "\n",
        "This approach will save our ML Model in the pickle format only but we don’t \n",
        "need to load additional libraries as the 'Pickling' facility is available within Scikit \n",
        "Learn package itself which we will use invariably for developing our ML models.\n"
      ]
    },
    {
      "cell_type": "markdown",
      "metadata": {
        "id": "3odnTXh5bDi9"
      },
      "source": [
        "Saving model."
      ]
    },
    {
      "cell_type": "code",
      "metadata": {
        "colab": {
          "base_uri": "https://localhost:8080/"
        },
        "id": "llCNF6FnZDRA",
        "outputId": "63d7a6db-e290-4242-e774-8cc9e5f1bab6"
      },
      "source": [
        "#import joblib module\n",
        "from sklearn.externals import joblib\n",
        "\n",
        "#save the model\n",
        "joblib_file = 'joblib_sendy_model'\n",
        "joblib.dump(sendy_model, joblib_file)"
      ],
      "execution_count": 709,
      "outputs": [
        {
          "output_type": "execute_result",
          "data": {
            "text/plain": [
              "['joblib_sendy_model']"
            ]
          },
          "metadata": {
            "tags": []
          },
          "execution_count": 709
        }
      ]
    },
    {
      "cell_type": "markdown",
      "metadata": {
        "id": "36mpm8JObGKx"
      },
      "source": [
        "Reloading Model."
      ]
    },
    {
      "cell_type": "code",
      "metadata": {
        "id": "h-94MFkEVsqn"
      },
      "source": [
        "joblib_sendy_model = joblib.load(joblib_file)"
      ],
      "execution_count": 710,
      "outputs": []
    },
    {
      "cell_type": "code",
      "metadata": {
        "id": "Tt46xlCqOPGo"
      },
      "source": [
        "#Using the reloaded file\n",
        "\n",
        "#score = joblib_sendy_model(X_test, y_test)"
      ],
      "execution_count": 711,
      "outputs": []
    },
    {
      "cell_type": "markdown",
      "metadata": {
        "id": "B7z3D5T8bkSR"
      },
      "source": [
        "PROs of Joblib :\n",
        "\n",
        "1) The Joblib library offers a bit simpler workflow compared to Pickle.\n",
        "\n",
        "2) While Pickle requires a file object to be passed as an argument, Joblib works with both file objects and string filenames.\n",
        "\n",
        "3) In case our model contains large arrays of data, each array will be stored in a separate file, but the save and restore procedure will remain the same.\n",
        "\n",
        "4) Joblib also allows different compression methods, such as 'zlib', 'gzip', 'bz2', and different levels of compression"
      ]
    },
    {
      "cell_type": "markdown",
      "metadata": {
        "id": "rDStpXUGb5fy"
      },
      "source": [
        "### 3 Manual Save and Restore to JSON.\n",
        "\n",
        "Whenever we want to have full control over the save and restore process, the best way is to build our own functions manually.\n",
        "\n",
        "JSON stands for JavaScript Object Notation. It's a lightweight format for data-interchange, that is easily readable by humans. \n",
        "\n",
        "The text in JSON is done through quoted-string which contains value in key-value mapping within { }. It is similar to the dictionary in Python. "
      ]
    },
    {
      "cell_type": "code",
      "metadata": {
        "id": "wSip2fRXZDb9"
      },
      "source": [
        ""
      ],
      "execution_count": 711,
      "outputs": []
    },
    {
      "cell_type": "markdown",
      "metadata": {
        "id": "fBRNOQCbcr1b"
      },
      "source": [
        "### Saving and loading a Deep Learning Model.\n",
        "\n",
        "A Keras model consists of multiple components:\n",
        "\n",
        "1. An architecture, or configuration, which specifies what \n",
        "layers the model contain, and how they're connected.\n",
        "\n",
        "2. A set of weights values (the \"state of the model\").\n",
        "\n",
        "3. An optimizer (defined by compiling the model).\n",
        "\n",
        "4. A set of losses and metrics (defined by compiling the \n",
        "model or calling add_loss() or add_metric())\n",
        "\n",
        "The Keras API makes it possible to save all of these pieces to disk at once, or to only selectively save some of them:\n",
        "\n",
        "1. Saving everything into a single archive in the TensorFlow \n",
        "SavedModel format (or in the older Keras H5 format). This is the standard practice.\n",
        "\n",
        "2. Saving the architecture / configuration only, typically as a JSON file.\n",
        "\n",
        "3. Saving the weights values only. This is generally used when training the model.\n"
      ]
    },
    {
      "cell_type": "markdown",
      "metadata": {
        "id": "CB0CvmObd_lq"
      },
      "source": [
        "Saving model."
      ]
    },
    {
      "cell_type": "code",
      "metadata": {
        "id": "e4OAuMfuZm9i"
      },
      "source": [
        "# model = ...  # Get model (Sequential, Functional Model, or Model subclass)\n",
        "# model.save('path/to/location')"
      ],
      "execution_count": 712,
      "outputs": []
    },
    {
      "cell_type": "markdown",
      "metadata": {
        "id": "MyI3z8nQeCTD"
      },
      "source": [
        "Loading the model back."
      ]
    },
    {
      "cell_type": "code",
      "metadata": {
        "id": "F-S7McGIZm6p"
      },
      "source": [
        "# from tensorflow import keras\n",
        "# model = keras.models.load_model('path/to/location')"
      ],
      "execution_count": 713,
      "outputs": []
    },
    {
      "cell_type": "code",
      "metadata": {
        "id": "fWbkkICnZm0T"
      },
      "source": [
        ""
      ],
      "execution_count": 713,
      "outputs": []
    }
  ]
}